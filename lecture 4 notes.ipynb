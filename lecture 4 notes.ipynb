{
 "cells": [
  {
   "cell_type": "markdown",
   "id": "93945c85",
   "metadata": {},
   "source": [
    "# Today's topic is random!"
   ]
  },
  {
   "cell_type": "code",
   "execution_count": 4,
   "id": "b97c4cf4",
   "metadata": {},
   "outputs": [],
   "source": [
    "import numpy as np"
   ]
  },
  {
   "cell_type": "code",
   "execution_count": 12,
   "id": "d7515ad4",
   "metadata": {},
   "outputs": [
    {
     "data": {
      "text/plain": [
       "array([[0.54254437, 0.14217005],\n",
       "       [0.37334076, 0.67413362],\n",
       "       [0.44183317, 0.43401399],\n",
       "       [0.61776698, 0.51313824],\n",
       "       [0.65039718, 0.60103895]])"
      ]
     },
     "execution_count": 12,
     "metadata": {},
     "output_type": "execute_result"
    }
   ],
   "source": [
    "randomA = np.random.rand(5,2)\n",
    "randomA"
   ]
  },
  {
   "cell_type": "code",
   "execution_count": 9,
   "id": "af6347f5",
   "metadata": {},
   "outputs": [],
   "source": [
    "np.random.seed(10)"
   ]
  },
  {
   "cell_type": "code",
   "execution_count": 10,
   "id": "0da648fb",
   "metadata": {},
   "outputs": [
    {
     "data": {
      "text/plain": [
       "array([[0.77132064, 0.02075195],\n",
       "       [0.63364823, 0.74880388],\n",
       "       [0.49850701, 0.22479665],\n",
       "       [0.19806286, 0.76053071],\n",
       "       [0.16911084, 0.08833981]])"
      ]
     },
     "execution_count": 10,
     "metadata": {},
     "output_type": "execute_result"
    }
   ],
   "source": [
    "random_seed_A = np.random.rand(5,2) # running this after setting a seed produces the \"same random\" numbers\n",
    "random_seed_A"
   ]
  },
  {
   "cell_type": "code",
   "execution_count": 13,
   "id": "18895253",
   "metadata": {},
   "outputs": [
    {
     "data": {
      "text/plain": [
       "array([ 0.09914922,  1.39799638, -0.27124799,  0.61320418, -0.26731719,\n",
       "       -0.54930901,  0.1327083 , -0.47614201,  1.30847308,  0.19501328])"
      ]
     },
     "execution_count": 13,
     "metadata": {},
     "output_type": "execute_result"
    }
   ],
   "source": [
    "random_neg_A = np.random.randn(10) # random numbers include negative numbers\n",
    "random_neg_A"
   ]
  },
  {
   "cell_type": "code",
   "execution_count": 17,
   "id": "72823ffd",
   "metadata": {},
   "outputs": [
    {
     "data": {
      "text/plain": [
       "array([[4, 1],\n",
       "       [1, 3]])"
      ]
     },
     "execution_count": 17,
     "metadata": {},
     "output_type": "execute_result"
    }
   ],
   "source": [
    "random_ints_A = np.random.randint(low=1,high=5,size=(2,2)) \n",
    "random_ints_A"
   ]
  },
  {
   "cell_type": "markdown",
   "id": "d537716a",
   "metadata": {},
   "source": [
    "### Now for some linear algebra!\n",
    "\n",
    "Dot product?"
   ]
  },
  {
   "cell_type": "code",
   "execution_count": 22,
   "id": "950f00b9",
   "metadata": {},
   "outputs": [
    {
     "data": {
      "text/plain": [
       "array([[96, 62, 57]])"
      ]
     },
     "execution_count": 22,
     "metadata": {},
     "output_type": "execute_result"
    }
   ],
   "source": [
    "matrix_1 = np.random.randint(low=0,high=100,size=(1,3)) \n",
    "matrix_2 = np.random.randint(low=0,high=100,size=(3,1)) \n",
    "\n",
    "matrix_1"
   ]
  },
  {
   "cell_type": "code",
   "execution_count": 23,
   "id": "b11fb318",
   "metadata": {},
   "outputs": [
    {
     "data": {
      "text/plain": [
       "array([[79],\n",
       "       [42],\n",
       "       [57]])"
      ]
     },
     "execution_count": 23,
     "metadata": {},
     "output_type": "execute_result"
    }
   ],
   "source": [
    "matrix_2"
   ]
  },
  {
   "cell_type": "code",
   "execution_count": 25,
   "id": "2c6dc439",
   "metadata": {},
   "outputs": [
    {
     "data": {
      "text/plain": [
       "array([[13437]])"
      ]
     },
     "execution_count": 25,
     "metadata": {},
     "output_type": "execute_result"
    }
   ],
   "source": [
    "dot_product = matrix_1.dot(matrix_2)\n",
    "dot_product"
   ]
  },
  {
   "cell_type": "code",
   "execution_count": null,
   "id": "bdff177b",
   "metadata": {},
   "outputs": [],
   "source": []
  }
 ],
 "metadata": {
  "kernelspec": {
   "display_name": "Python 3 (ipykernel)",
   "language": "python",
   "name": "python3"
  },
  "language_info": {
   "codemirror_mode": {
    "name": "ipython",
    "version": 3
   },
   "file_extension": ".py",
   "mimetype": "text/x-python",
   "name": "python",
   "nbconvert_exporter": "python",
   "pygments_lexer": "ipython3",
   "version": "3.9.13"
  }
 },
 "nbformat": 4,
 "nbformat_minor": 5
}
