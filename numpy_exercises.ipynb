{
 "cells": [
  {
   "cell_type": "markdown",
   "id": "afd6f260",
   "metadata": {},
   "source": [
    "# Numpy exercises \n",
    "\n",
    "## Exercise 1\n",
    "Steps:\n",
    "1. Generate an array of 100 numbers\n",
    "2. Compute the standard deviation using numpy\n",
    "3. Implement standard deviation from the equation sheet\n",
    "4. Evaluate and compare"
   ]
  },
  {
   "cell_type": "code",
   "execution_count": 2,
   "id": "ff2baaef",
   "metadata": {},
   "outputs": [],
   "source": [
    "import numpy as np"
   ]
  },
  {
   "cell_type": "code",
   "execution_count": 3,
   "id": "0a7c3882",
   "metadata": {},
   "outputs": [],
   "source": [
    "A = np.random.random(100) # generates array of 100 numbers from 0 to 1"
   ]
  },
  {
   "cell_type": "code",
   "execution_count": 4,
   "id": "b6ac9986",
   "metadata": {},
   "outputs": [
    {
     "data": {
      "text/plain": [
       "array([0.34899726, 0.42533455, 0.85478058, 0.65326218, 0.56791323,\n",
       "       0.40773368, 0.15635491, 0.8584705 , 0.00538582, 0.95127415,\n",
       "       0.14775287, 0.46972369, 0.79348174, 0.59742716, 0.67231943,\n",
       "       0.01986291, 0.34317309, 0.23307376, 0.8632396 , 0.89167256,\n",
       "       0.13069724, 0.34634005, 0.69047555, 0.78834317, 0.37571718,\n",
       "       0.63724557, 0.15427433, 0.29793179, 0.11158364, 0.21034753,\n",
       "       0.95312296, 0.78752961, 0.58671118, 0.52136007, 0.27191902,\n",
       "       0.62760712, 0.40039831, 0.11165657, 0.97268504, 0.25578434,\n",
       "       0.67755991, 0.33185568, 0.5719468 , 0.36400108, 0.89589429,\n",
       "       0.40980935, 0.6176097 , 0.08596597, 0.43565306, 0.44599934,\n",
       "       0.16012196, 0.56501631, 0.54364986, 0.62351552, 0.83885983,\n",
       "       0.3735702 , 0.66228903, 0.70436138, 0.00595764, 0.07480229,\n",
       "       0.40809936, 0.59764923, 0.00612131, 0.30654426, 0.68366833,\n",
       "       0.57841227, 0.71265655, 0.63125197, 0.37940298, 0.45973257,\n",
       "       0.56199458, 0.85093954, 0.36283643, 0.29205029, 0.67921423,\n",
       "       0.14743255, 0.25905421, 0.70907913, 0.95758203, 0.06606039,\n",
       "       0.64278358, 0.08391933, 0.45833811, 0.22912708, 0.31071323,\n",
       "       0.74404651, 0.37950936, 0.29626873, 0.28652419, 0.39211558,\n",
       "       0.86161121, 0.6723974 , 0.80957031, 0.69260812, 0.02879248,\n",
       "       0.42848483, 0.79297233, 0.54124505, 0.03254091, 0.47177507])"
      ]
     },
     "execution_count": 4,
     "metadata": {},
     "output_type": "execute_result"
    }
   ],
   "source": [
    "A"
   ]
  },
  {
   "cell_type": "code",
   "execution_count": 5,
   "id": "b8ca8d86",
   "metadata": {},
   "outputs": [],
   "source": [
    "std_dev_np = np.std(A) # computes standard deviation of array A using numpy and assigns to variable std_dev_np"
   ]
  },
  {
   "cell_type": "code",
   "execution_count": 6,
   "id": "4460753e",
   "metadata": {},
   "outputs": [
    {
     "data": {
      "text/plain": [
       "0.26419527521275726"
      ]
     },
     "execution_count": 6,
     "metadata": {},
     "output_type": "execute_result"
    }
   ],
   "source": [
    "std_dev_np"
   ]
  },
  {
   "cell_type": "code",
   "execution_count": 7,
   "id": "176768ed",
   "metadata": {},
   "outputs": [
    {
     "data": {
      "text/plain": [
       "0.47686528742952433"
      ]
     },
     "execution_count": 7,
     "metadata": {},
     "output_type": "execute_result"
    }
   ],
   "source": [
    "sum_A = np.sum(A)  # using np to calculate the sum, size, and average of array A\n",
    "size_A = np.size(A)\n",
    "avg_A = sum_A/size_A\n",
    "avg_A"
   ]
  },
  {
   "cell_type": "code",
   "execution_count": 8,
   "id": "16df5047",
   "metadata": {},
   "outputs": [
    {
     "name": "stdout",
     "output_type": "stream",
     "text": [
      "0.06979914344474455 0.07050418529772177\n"
     ]
    }
   ],
   "source": [
    "temp_sum = sum(abs(A - avg_A)**2)  # calculate the sum from the variance formula\n",
    "\n",
    "variance_A0 = temp_sum / (size_A)     # denominator Neq\n",
    "variance_A1 = temp_sum / (size_A - 1) # denominator Neq - 1\n",
    "print(variance_A0, variance_A1)"
   ]
  },
  {
   "cell_type": "code",
   "execution_count": 9,
   "id": "457c79af",
   "metadata": {},
   "outputs": [
    {
     "data": {
      "text/plain": [
       "0.26419527521275726"
      ]
     },
     "execution_count": 9,
     "metadata": {},
     "output_type": "execute_result"
    }
   ],
   "source": [
    "std_dev_cal0 = np.sqrt(variance_A0) \n",
    "std_dev_cal0"
   ]
  },
  {
   "cell_type": "code",
   "execution_count": 10,
   "id": "c0364c87",
   "metadata": {},
   "outputs": [
    {
     "data": {
      "text/plain": [
       "0.26552624220163584"
      ]
     },
     "execution_count": 10,
     "metadata": {},
     "output_type": "execute_result"
    }
   ],
   "source": [
    "std_dev_cal1 = np.sqrt(variance_A1)\n",
    "std_dev_cal1"
   ]
  },
  {
   "cell_type": "code",
   "execution_count": 11,
   "id": "db8aa955",
   "metadata": {},
   "outputs": [
    {
     "name": "stdout",
     "output_type": "stream",
     "text": [
      "Standard deviation calculated by Numpy:  0.26419527521275726\n",
      "Standard deviation calculated with denominator Neq:  0.26419527521275726\n",
      "Standard deviation calculated with denominator Neq - 1:  0.26552624220163584\n"
     ]
    }
   ],
   "source": [
    "print('Standard deviation calculated by Numpy: ', std_dev_np) #displaying results to compare\n",
    "print('Standard deviation calculated with denominator Neq: ', std_dev_cal0)\n",
    "print('Standard deviation calculated with denominator Neq - 1: ', std_dev_cal1)"
   ]
  },
  {
   "cell_type": "markdown",
   "id": "c7449cde",
   "metadata": {},
   "source": [
    "## Exercise 2\n",
    "Bin your data for different distributions of random numbers. We will:\n",
    "1. Create arrays with 10k numbers from different distributions (e.g. uniform, normal)\n",
    "2. Bin this data\n",
    "3. Compare"
   ]
  },
  {
   "cell_type": "code",
   "execution_count": 12,
   "id": "9b18b077",
   "metadata": {},
   "outputs": [],
   "source": [
    "import matplotlib.pyplot as plt"
   ]
  },
  {
   "cell_type": "code",
   "execution_count": 123,
   "id": "a4cf0c5e",
   "metadata": {},
   "outputs": [],
   "source": [
    "randomA = np.random.rand(10000)\n",
    "\n",
    "randomB = np.random.randn(10000)\n",
    "\n",
    "randomC = np.random.randint(0, 10001, 10000)\n",
    "\n",
    "randomD = np.random.normal(0, 1, 10000)"
   ]
  },
  {
   "cell_type": "code",
   "execution_count": 102,
   "id": "bf27283d",
   "metadata": {},
   "outputs": [],
   "source": [
    "def bin_function(distribution_array, n_bins):\n",
    "    \n",
    "    max_val = max(distribution_array)\n",
    "    min_val = min(distribution_array)\n",
    "    \n",
    "    bin_splits = np.linspace(min_val, max_val, n_bins + 1)\n",
    "\n",
    "    bins = np.zeros(n_bins)\n",
    "\n",
    "    \n",
    "    for i in range(len(bins)):\n",
    "        bin_min = bin_splits[i]\n",
    "        bin_max = bin_splits[i+1]\n",
    "\n",
    "        for val in distribution_array:\n",
    "            if (val >= bin_min) and (val < bin_max):\n",
    "                bins[i] += 1         \n",
    "            if val == bin_max:\n",
    "                bins[i] += 1\n",
    "    \n",
    "    return bins, bin_splits\n"
   ]
  },
  {
   "cell_type": "code",
   "execution_count": 112,
   "id": "152274d9",
   "metadata": {},
   "outputs": [],
   "source": [
    "n_bins = 15\n",
    "bin_sp_meanA = np.zeros(n_bins)\n",
    "\n",
    "binsA, bin_splitsA = bin_function(randomA, n_bins)\n",
    "\n",
    "#get bin_splits mean\n",
    "for i in range(len(bin_sp_meanA)):\n",
    "    bin_sp_meanA[i] = np.mean(bin_splitsA[i:i+2])"
   ]
  },
  {
   "cell_type": "code",
   "execution_count": 156,
   "id": "14ec356c",
   "metadata": {},
   "outputs": [
    {
     "data": {
      "text/plain": [
       "Text(0.5, 1.0, '15 bins for np.random.rand() function')"
      ]
     },
     "execution_count": 156,
     "metadata": {},
     "output_type": "execute_result"
    },
    {
     "data": {
      "image/png": "[encoded data removed]",
      "text/plain": [
       "<Figure size 640x480 with 1 Axes>"
      ]
     },
     "metadata": {},
     "output_type": "display_data"
    }
   ],
   "source": [
    "plt.bar(bin_sp_meanA,binsA, width=0.025)\n",
    "plt.title(str(n_bins) + \" bins for np.random.rand() function\")"
   ]
  },
  {
   "cell_type": "code",
   "execution_count": 126,
   "id": "e855b346",
   "metadata": {},
   "outputs": [],
   "source": [
    "n_bins = 15\n",
    "bin_sp_meanB = np.zeros(n_bins)\n",
    "\n",
    "binsB, bin_splitsB = bin_function(randomB, n_bins)\n",
    "\n",
    "#get bin_splits mean\n",
    "for i in range(len(bin_sp_meanB)):\n",
    "    bin_sp_meanB[i] = np.mean(bin_splitsB[i:i+2])"
   ]
  },
  {
   "cell_type": "code",
   "execution_count": 153,
   "id": "f6ba10c8",
   "metadata": {},
   "outputs": [
    {
     "data": {
      "text/plain": [
       "Text(0.5, 1.0, '15 bins for np.random.randn() function')"
      ]
     },
     "execution_count": 153,
     "metadata": {},
     "output_type": "execute_result"
    },
    {
     "data": {
      "image/png": "[encoded data removed]",
      "text/plain": [
       "<Figure size 640x480 with 1 Axes>"
      ]
     },
     "metadata": {},
     "output_type": "display_data"
    }
   ],
   "source": [
    "plt.bar(bin_sp_meanB,binsB, width=0.25)\n",
    "plt.title(str(n_bins) + \" bins for np.random.randn() function\")"
   ]
  },
  {
   "cell_type": "code",
   "execution_count": 138,
   "id": "c218a732",
   "metadata": {},
   "outputs": [
    {
     "data": {
      "text/plain": [
       "(15, 15)"
      ]
     },
     "execution_count": 138,
     "metadata": {},
     "output_type": "execute_result"
    }
   ],
   "source": [
    "len(binsC), len(bin_sp_meanC)"
   ]
  },
  {
   "cell_type": "code",
   "execution_count": 128,
   "id": "30d195a6",
   "metadata": {},
   "outputs": [],
   "source": [
    "n_bins = 15\n",
    "bin_sp_meanC = np.zeros(n_bins)\n",
    "\n",
    "binsC, bin_splitsC = bin_function(randomC, n_bins)\n",
    "\n",
    "#get bin_splits mean\n",
    "for i in range(len(bin_sp_meanC)):\n",
    "    bin_sp_meanC[i] = np.mean(bin_splitsC[i:i+2])"
   ]
  },
  {
   "cell_type": "code",
   "execution_count": 162,
   "id": "4c35dd65",
   "metadata": {},
   "outputs": [
    {
     "data": {
      "text/plain": [
       "Text(0.5, 1.0, '15 bins for np.random.randint() function')"
      ]
     },
     "execution_count": 162,
     "metadata": {},
     "output_type": "execute_result"
    },
    {
     "data": {
      "image/png": "[encoded data removed]",
      "text/plain": [
       "<Figure size 640x480 with 1 Axes>"
      ]
     },
     "metadata": {},
     "output_type": "display_data"
    }
   ],
   "source": [
    "plt.bar(bin_sp_meanC,binsC, width=250)\n",
    "plt.title(str(n_bins) + \" bins for np.random.randint() function\")"
   ]
  },
  {
   "cell_type": "code",
   "execution_count": 158,
   "id": "379c6ae5",
   "metadata": {},
   "outputs": [],
   "source": [
    "n_bins = 15\n",
    "bin_sp_meanD = np.zeros(n_bins)\n",
    "\n",
    "binsD, bin_splitsD = bin_function(randomD, n_bins)\n",
    "\n",
    "#get bin_splits mean\n",
    "for i in range(len(bin_sp_meanD)):\n",
    "    bin_sp_meanD[i] = np.mean(bin_splitsD[i:i+2])"
   ]
  },
  {
   "cell_type": "code",
   "execution_count": 182,
   "id": "492ac94b",
   "metadata": {},
   "outputs": [
    {
     "data": {
      "text/plain": [
       "Text(0.5, 1.0, '15 bins for np.random.normal() function')"
      ]
     },
     "execution_count": 182,
     "metadata": {},
     "output_type": "execute_result"
    },
    {
     "data": {
      "image/png": "[encoded data removed]",
      "text/plain": [
       "<Figure size 640x480 with 1 Axes>"
      ]
     },
     "metadata": {},
     "output_type": "display_data"
    }
   ],
   "source": [
    "plt.bar(bin_sp_meanD,binsD, width=0.2)\n",
    "plt.title(str(n_bins) + \" bins for np.random.normal() function\")"
   ]
  },
  {
   "cell_type": "markdown",
   "id": "6941f631",
   "metadata": {},
   "source": [
    "# Exercise 3\n",
    "Write a function that computes root mean squared error\n",
    "1. Write the function\n",
    "2. Test it\n",
    "3. Compare to numpy implementation of your splitted data sets (relative to mean value of each split)"
   ]
  },
  {
   "cell_type": "code",
   "execution_count": 192,
   "id": "40472877",
   "metadata": {},
   "outputs": [],
   "source": [
    "def rmse(distribution_array):\n",
    "    N = len(distribution_array)\n",
    "    avg = sum(distribution_array)/N\n",
    "    \n",
    "    rmse = (sum((distribution_array-avg)**2)/N)**0.5\n",
    "    \n",
    "    return rmse"
   ]
  },
  {
   "cell_type": "code",
   "execution_count": 193,
   "id": "d45a15b3",
   "metadata": {},
   "outputs": [
    {
     "data": {
      "text/plain": [
       "0.28933255374385963"
      ]
     },
     "execution_count": 193,
     "metadata": {},
     "output_type": "execute_result"
    }
   ],
   "source": [
    "rmse1 = rmse(randomA)\n",
    "rmse1"
   ]
  },
  {
   "cell_type": "code",
   "execution_count": 195,
   "id": "36c95cc3",
   "metadata": {},
   "outputs": [
    {
     "data": {
      "text/plain": [
       "0.2893325537438593"
      ]
     },
     "execution_count": 195,
     "metadata": {},
     "output_type": "execute_result"
    }
   ],
   "source": [
    "import sklearn.metrics as sklm\n",
    "\n",
    "true_vals = np.ones(len(randomA)) * sum(randomA)/len(randomA)\n",
    "\n",
    "rmse2 = sklm.mean_squared_error(randomA, true_vals, squared = False) #the squared argument returns RMSE instead of mean squared error\n",
    "rmse2"
   ]
  },
  {
   "cell_type": "markdown",
   "id": "c9bed757",
   "metadata": {},
   "source": [
    "# Exercise 4: Data collection exercise\n",
    "Goal: Collect a bit of real data that you would need/want to solve a specific problem related to your research. Answer these questions in a separate section of the Jupyter notebook\n",
    "\n",
    "Background on my research: I use electrohydrodynamic atomization (aka electrospray) to fabricate immunotherapeutic-loaded core-shell microparticles towards the controlled-release treatment of ovarian cancer. In the electrospray technique, syringe pumps dispense core and shell material solutions through a coaxial steel needle which receives a high voltage. When the electric charge build-up overcomes the solutions’ surface tension, particles are deposited onto a grounded collector. There are many variables which impact monodisperse spherical particle formation including the solvents, solution viscosity, solution conductivity, flow-rate, needle-to-collector distance, voltage, among others. In the literature, I have only seen one paper that attemps to use ML to predict particle size from spraying conditions. \n",
    "\n",
    "1. <u> What feature data do you have/need? </u> <br>\n",
    "    I have data for the successful and unsuccessful parameters to fabricate single-material (not core-shell) particles from PLGA with ethyl acetate as a solvent \n",
    "2. <u> What target data do you have/need?  </u> <br>\n",
    "    Particle size and characteristics: spherical, monodisperse \n",
    "3. <u> Where does the data come from?  </u> <br>\n",
    "    Experimental observations, optical and scanning electron microscopes\n",
    "4. <u> What cleanup is needed?  </u>\n",
    "    It's unclear at the moment, perhaps particle size can be calculate using ImageJ. Sometimes particles will coalesce so it may be necessary to flag those particles and remove them from size measurements\n",
    "5. <u> What metadata do you have/need?  </u>\n",
    "6. <u> Establish version control for your data  </u>\n",
    "7. <u> How will you make this data FAIR?  </u>\n",
    "8. <u> What problems/obstacles/questions do you notice?  </u> \n",
    "I don't have nearly enough data. It is possible to extract data from the literature as was done by the authors of the paper I mentioned above and use it to supplement my own. Also, is this truly a problem that needs ML or is there a mechanism here that we can study and understand?\n",
    "\n"
   ]
  },
  {
   "cell_type": "markdown",
   "id": "d73e20e9",
   "metadata": {},
   "source": []
  }
 ],
 "metadata": {
  "kernelspec": {
   "display_name": "Python 3 (ipykernel)",
   "language": "python",
   "name": "python3"
  },
  "language_info": {
   "codemirror_mode": {
    "name": "ipython",
    "version": 3
   },
   "file_extension": ".py",
   "mimetype": "text/x-python",
   "name": "python",
   "nbconvert_exporter": "python",
   "pygments_lexer": "ipython3",
   "version": "3.9.13"
  }
 },
 "nbformat": 4,
 "nbformat_minor": 5
}
