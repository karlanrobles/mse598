{
 "cells": [
  {
   "cell_type": "markdown",
   "id": "2c1094f1",
   "metadata": {},
   "source": [
    "# Exercise 5: Data exploration exercise\n",
    "Goal: Determine what you want to use as descriptors for linear regression of the concrete data\n",
    "\n",
    "1. Download and open the concrete data set: \"https://www.kaggle.com/datasets/maajdl/yeh-concret-data\"\n",
    "2. Look at distributions of different descriptors\n",
    "3. Describe in words what you notice"
   ]
  },
  {
   "cell_type": "code",
   "execution_count": 178,
   "id": "71c2bb4e",
   "metadata": {},
   "outputs": [],
   "source": [
    "import numpy as np\n",
    "import seaborn as sns\n",
    "import pandas as pd\n",
    "import math\n",
    "import sklearn.metrics as sklm\n",
    "import matplotlib.pyplot as plt\n",
    "%matplotlib inline"
   ]
  },
  {
   "cell_type": "code",
   "execution_count": null,
   "id": "ec77807f",
   "metadata": {},
   "outputs": [],
   "source": []
  },
  {
   "cell_type": "code",
   "execution_count": 179,
   "id": "547df42b",
   "metadata": {},
   "outputs": [
    {
     "data": {
      "text/html": [
       "<div>\n",
       "<style scoped>\n",
       "    .dataframe tbody tr th:only-of-type {\n",
       "        vertical-align: middle;\n",
       "    }\n",
       "\n",
       "    .dataframe tbody tr th {\n",
       "        vertical-align: top;\n",
       "    }\n",
       "\n",
       "    .dataframe thead th {\n",
       "        text-align: right;\n",
       "    }\n",
       "</style>\n",
       "<table border=\"1\" class=\"dataframe\">\n",
       "  <thead>\n",
       "    <tr style=\"text-align: right;\">\n",
       "      <th></th>\n",
       "      <th>cement</th>\n",
       "      <th>slag</th>\n",
       "      <th>flyash</th>\n",
       "      <th>water</th>\n",
       "      <th>superplasticizer</th>\n",
       "      <th>coarseaggregate</th>\n",
       "      <th>fineaggregate</th>\n",
       "      <th>age</th>\n",
       "      <th>csMPa</th>\n",
       "    </tr>\n",
       "  </thead>\n",
       "  <tbody>\n",
       "    <tr>\n",
       "      <th>0</th>\n",
       "      <td>540.0</td>\n",
       "      <td>0.0</td>\n",
       "      <td>0.0</td>\n",
       "      <td>162.0</td>\n",
       "      <td>2.5</td>\n",
       "      <td>1040.0</td>\n",
       "      <td>676.0</td>\n",
       "      <td>28</td>\n",
       "      <td>79.99</td>\n",
       "    </tr>\n",
       "    <tr>\n",
       "      <th>1</th>\n",
       "      <td>540.0</td>\n",
       "      <td>0.0</td>\n",
       "      <td>0.0</td>\n",
       "      <td>162.0</td>\n",
       "      <td>2.5</td>\n",
       "      <td>1055.0</td>\n",
       "      <td>676.0</td>\n",
       "      <td>28</td>\n",
       "      <td>61.89</td>\n",
       "    </tr>\n",
       "    <tr>\n",
       "      <th>2</th>\n",
       "      <td>332.5</td>\n",
       "      <td>142.5</td>\n",
       "      <td>0.0</td>\n",
       "      <td>228.0</td>\n",
       "      <td>0.0</td>\n",
       "      <td>932.0</td>\n",
       "      <td>594.0</td>\n",
       "      <td>270</td>\n",
       "      <td>40.27</td>\n",
       "    </tr>\n",
       "    <tr>\n",
       "      <th>3</th>\n",
       "      <td>332.5</td>\n",
       "      <td>142.5</td>\n",
       "      <td>0.0</td>\n",
       "      <td>228.0</td>\n",
       "      <td>0.0</td>\n",
       "      <td>932.0</td>\n",
       "      <td>594.0</td>\n",
       "      <td>365</td>\n",
       "      <td>41.05</td>\n",
       "    </tr>\n",
       "    <tr>\n",
       "      <th>4</th>\n",
       "      <td>198.6</td>\n",
       "      <td>132.4</td>\n",
       "      <td>0.0</td>\n",
       "      <td>192.0</td>\n",
       "      <td>0.0</td>\n",
       "      <td>978.4</td>\n",
       "      <td>825.5</td>\n",
       "      <td>360</td>\n",
       "      <td>44.30</td>\n",
       "    </tr>\n",
       "    <tr>\n",
       "      <th>...</th>\n",
       "      <td>...</td>\n",
       "      <td>...</td>\n",
       "      <td>...</td>\n",
       "      <td>...</td>\n",
       "      <td>...</td>\n",
       "      <td>...</td>\n",
       "      <td>...</td>\n",
       "      <td>...</td>\n",
       "      <td>...</td>\n",
       "    </tr>\n",
       "    <tr>\n",
       "      <th>1025</th>\n",
       "      <td>276.4</td>\n",
       "      <td>116.0</td>\n",
       "      <td>90.3</td>\n",
       "      <td>179.6</td>\n",
       "      <td>8.9</td>\n",
       "      <td>870.1</td>\n",
       "      <td>768.3</td>\n",
       "      <td>28</td>\n",
       "      <td>44.28</td>\n",
       "    </tr>\n",
       "    <tr>\n",
       "      <th>1026</th>\n",
       "      <td>322.2</td>\n",
       "      <td>0.0</td>\n",
       "      <td>115.6</td>\n",
       "      <td>196.0</td>\n",
       "      <td>10.4</td>\n",
       "      <td>817.9</td>\n",
       "      <td>813.4</td>\n",
       "      <td>28</td>\n",
       "      <td>31.18</td>\n",
       "    </tr>\n",
       "    <tr>\n",
       "      <th>1027</th>\n",
       "      <td>148.5</td>\n",
       "      <td>139.4</td>\n",
       "      <td>108.6</td>\n",
       "      <td>192.7</td>\n",
       "      <td>6.1</td>\n",
       "      <td>892.4</td>\n",
       "      <td>780.0</td>\n",
       "      <td>28</td>\n",
       "      <td>23.70</td>\n",
       "    </tr>\n",
       "    <tr>\n",
       "      <th>1028</th>\n",
       "      <td>159.1</td>\n",
       "      <td>186.7</td>\n",
       "      <td>0.0</td>\n",
       "      <td>175.6</td>\n",
       "      <td>11.3</td>\n",
       "      <td>989.6</td>\n",
       "      <td>788.9</td>\n",
       "      <td>28</td>\n",
       "      <td>32.77</td>\n",
       "    </tr>\n",
       "    <tr>\n",
       "      <th>1029</th>\n",
       "      <td>260.9</td>\n",
       "      <td>100.5</td>\n",
       "      <td>78.3</td>\n",
       "      <td>200.6</td>\n",
       "      <td>8.6</td>\n",
       "      <td>864.5</td>\n",
       "      <td>761.5</td>\n",
       "      <td>28</td>\n",
       "      <td>32.40</td>\n",
       "    </tr>\n",
       "  </tbody>\n",
       "</table>\n",
       "<p>1030 rows × 9 columns</p>\n",
       "</div>"
      ],
      "text/plain": [
       "      cement   slag  flyash  water  superplasticizer  coarseaggregate  \\\n",
       "0      540.0    0.0     0.0  162.0               2.5           1040.0   \n",
       "1      540.0    0.0     0.0  162.0               2.5           1055.0   \n",
       "2      332.5  142.5     0.0  228.0               0.0            932.0   \n",
       "3      332.5  142.5     0.0  228.0               0.0            932.0   \n",
       "4      198.6  132.4     0.0  192.0               0.0            978.4   \n",
       "...      ...    ...     ...    ...               ...              ...   \n",
       "1025   276.4  116.0    90.3  179.6               8.9            870.1   \n",
       "1026   322.2    0.0   115.6  196.0              10.4            817.9   \n",
       "1027   148.5  139.4   108.6  192.7               6.1            892.4   \n",
       "1028   159.1  186.7     0.0  175.6              11.3            989.6   \n",
       "1029   260.9  100.5    78.3  200.6               8.6            864.5   \n",
       "\n",
       "      fineaggregate  age  csMPa  \n",
       "0             676.0   28  79.99  \n",
       "1             676.0   28  61.89  \n",
       "2             594.0  270  40.27  \n",
       "3             594.0  365  41.05  \n",
       "4             825.5  360  44.30  \n",
       "...             ...  ...    ...  \n",
       "1025          768.3   28  44.28  \n",
       "1026          813.4   28  31.18  \n",
       "1027          780.0   28  23.70  \n",
       "1028          788.9   28  32.77  \n",
       "1029          761.5   28  32.40  \n",
       "\n",
       "[1030 rows x 9 columns]"
      ]
     },
     "execution_count": 179,
     "metadata": {},
     "output_type": "execute_result"
    }
   ],
   "source": [
    "df = pd.read_csv(\"./Concrete_Data_Yeh.csv\")\n",
    "df"
   ]
  },
  {
   "cell_type": "markdown",
   "id": "27f24702",
   "metadata": {},
   "source": [
    "# mean and standard deviation for each attribute"
   ]
  },
  {
   "cell_type": "code",
   "execution_count": 180,
   "id": "51ebbf5f",
   "metadata": {},
   "outputs": [],
   "source": [
    "cement_avg = np.mean(df.cement)\n",
    "slag_avg = np.mean(df.slag)\n",
    "flyash_avg = np.mean(df.flyash)\n",
    "spr_plast_avg = np.mean(df.superplasticizer)\n",
    "coarse_agg_avg = np.mean(df.coarseaggregate)\n",
    "fine_agg_avg = np.mean(df.fineaggregate)\n",
    "age_avg = np.mean(df.age)\n",
    "csMPa_avg = np.mean(df.csMPa)\n",
    "\n",
    "cement_std = np.std(df.cement)\n",
    "slag_std = np.std(df.slag)\n",
    "flyash_std = np.std(df.flyash)\n",
    "spr_plast_std = np.std(df.superplasticizer)\n",
    "coarse_agg_std = np.std(df.coarseaggregate)\n",
    "fine_agg_std = np.std(df.fineaggregate)\n",
    "age_std = np.std(df.age)\n",
    "csMPa_std = np.std(df.csMPa)"
   ]
  },
  {
   "cell_type": "markdown",
   "id": "42433e24",
   "metadata": {},
   "source": [
    "# histograms of each attribute"
   ]
  },
  {
   "cell_type": "code",
   "execution_count": 181,
   "id": "48da8c31",
   "metadata": {},
   "outputs": [
    {
     "name": "stdout",
     "output_type": "stream",
     "text": [
      "Cement average:  281.17 ± 104.46\n"
     ]
    },
    {
     "data": {
      "image/png": "[encoded data removed]",
      "text/plain": [
       "<Figure size 640x480 with 1 Axes>"
      ]
     },
     "metadata": {},
     "output_type": "display_data"
    }
   ],
   "source": [
    "sns.histplot(df.cement)\n",
    "print(\"Cement average: \", \"{:.2f}\".format(cement_avg), u\"\\u00B1\", \"{:.2f}\".format(cement_std))"
   ]
  },
  {
   "cell_type": "markdown",
   "id": "32932eb4",
   "metadata": {},
   "source": [
    "The cement attribute data distribution is right-skewed"
   ]
  },
  {
   "cell_type": "code",
   "execution_count": 182,
   "id": "438f27cd",
   "metadata": {},
   "outputs": [
    {
     "name": "stdout",
     "output_type": "stream",
     "text": [
      "Slag average:  73.90 ± 86.24\n"
     ]
    },
    {
     "data": {
      "image/png": "[encoded data removed]",
      "text/plain": [
       "<Figure size 640x480 with 1 Axes>"
      ]
     },
     "metadata": {},
     "output_type": "display_data"
    }
   ],
   "source": [
    "sns.histplot(df.slag)\n",
    "print(\"Slag average: \", \"{:.2f}\".format(slag_avg), u\"\\u00B1\", \"{:.2f}\".format(slag_std))"
   ]
  },
  {
   "cell_type": "markdown",
   "id": "ea4c34b1",
   "metadata": {},
   "source": [
    "With the exception of the first bin, the distribution of the slag data looks normal. However, the first bin makes up a major portion of the data which also explains the large standard deviation relative to the mean "
   ]
  },
  {
   "cell_type": "code",
   "execution_count": 183,
   "id": "7150bc91",
   "metadata": {},
   "outputs": [
    {
     "name": "stdout",
     "output_type": "stream",
     "text": [
      "Flyash average:  54.19 ± 63.97\n"
     ]
    },
    {
     "data": {
      "image/png": "[encoded data removed]",
      "text/plain": [
       "<Figure size 640x480 with 1 Axes>"
      ]
     },
     "metadata": {},
     "output_type": "display_data"
    }
   ],
   "source": [
    "sns.histplot(df.flyash)\n",
    "print(\"Flyash average: \", \"{:.2f}\".format(flyash_avg), u\"\\u00B1\", \"{:.2f}\".format(flyash_std))\n"
   ]
  },
  {
   "cell_type": "markdown",
   "id": "22a12952",
   "metadata": {},
   "source": [
    "Similar to the slag distribution, where the leftmost bin makes up a large portion of the data. Without this bin, the rest of the distribution would seem to be relatively uniform\n"
   ]
  },
  {
   "cell_type": "code",
   "execution_count": 184,
   "id": "877bbe81",
   "metadata": {},
   "outputs": [
    {
     "name": "stdout",
     "output_type": "stream",
     "text": [
      "Superplasticizer average:  6.20 ± 5.97\n"
     ]
    },
    {
     "data": {
      "image/png": "[encoded data removed]",
      "text/plain": [
       "<Figure size 640x480 with 1 Axes>"
      ]
     },
     "metadata": {},
     "output_type": "display_data"
    }
   ],
   "source": [
    "sns.histplot(df.superplasticizer)\n",
    "print(\"Superplasticizer average: \", \"{:.2f}\".format(spr_plast_avg), u\"\\u00B1\", \"{:.2f}\".format(spr_plast_std))\n"
   ]
  },
  {
   "cell_type": "markdown",
   "id": "f85def3a",
   "metadata": {},
   "source": [
    "Partially similar to the two distributions above in that the first bin makes up a large portion of the data -  the remaining distribution seems to be right skewed. "
   ]
  },
  {
   "cell_type": "code",
   "execution_count": 185,
   "id": "a3d17a40",
   "metadata": {},
   "outputs": [
    {
     "name": "stdout",
     "output_type": "stream",
     "text": [
      "Coarse aggregate average:  972.92 ± 77.72\n"
     ]
    },
    {
     "data": {
      "image/png": "[encoded data removed]",
      "text/plain": [
       "<Figure size 640x480 with 1 Axes>"
      ]
     },
     "metadata": {},
     "output_type": "display_data"
    }
   ],
   "source": [
    "sns.histplot(df.coarseaggregate)\n",
    "print(\"Coarse aggregate average: \", \"{:.2f}\".format(coarse_agg_avg), u\"\\u00B1\", \"{:.2f}\".format(coarse_agg_std))\n"
   ]
  },
  {
   "cell_type": "code",
   "execution_count": 186,
   "id": "e4d88930",
   "metadata": {},
   "outputs": [
    {
     "name": "stdout",
     "output_type": "stream",
     "text": [
      "Fine aggregate average:  773.58 ± 80.14\n"
     ]
    },
    {
     "data": {
      "image/png": "[encoded data removed]",
      "text/plain": [
       "<Figure size 640x480 with 1 Axes>"
      ]
     },
     "metadata": {},
     "output_type": "display_data"
    }
   ],
   "source": [
    "sns.histplot(df.fineaggregate)\n",
    "print(\"Fine aggregate average: \", \"{:.2f}\".format(fine_agg_avg), u\"\\u00B1\", \"{:.2f}\".format(fine_agg_std))\n"
   ]
  },
  {
   "cell_type": "code",
   "execution_count": 187,
   "id": "91027313",
   "metadata": {},
   "outputs": [
    {
     "name": "stdout",
     "output_type": "stream",
     "text": [
      "Age average:  45.66 ± 63.14\n"
     ]
    },
    {
     "data": {
      "image/png": "[encoded data removed]",
      "text/plain": [
       "<Figure size 640x480 with 1 Axes>"
      ]
     },
     "metadata": {},
     "output_type": "display_data"
    }
   ],
   "source": [
    "sns.histplot(df.age)\n",
    "print(\"Age average: \", \"{:.2f}\".format(age_avg), u\"\\u00B1\", \"{:.2f}\".format(age_std))\n"
   ]
  },
  {
   "cell_type": "code",
   "execution_count": 188,
   "id": "92ced226",
   "metadata": {},
   "outputs": [
    {
     "name": "stdout",
     "output_type": "stream",
     "text": [
      "csMPa average:  35.82 ± 16.70\n"
     ]
    },
    {
     "data": {
      "image/png": "[encoded data removed]",
      "text/plain": [
       "<Figure size 640x480 with 1 Axes>"
      ]
     },
     "metadata": {},
     "output_type": "display_data"
    }
   ],
   "source": [
    "sns.histplot(df.csMPa)\n",
    "print(\"csMPa average: \", \"{:.2f}\".format(csMPa_avg), u\"\\u00B1\", \"{:.2f}\".format(csMPa_std))\n"
   ]
  },
  {
   "cell_type": "markdown",
   "id": "21b48228",
   "metadata": {},
   "source": [
    "# Observations\n"
   ]
  },
  {
   "cell_type": "markdown",
   "id": "ac022807",
   "metadata": {},
   "source": [
    "# Test/Validation Split Exercise\n",
    "Goal: Produce test/validation splits using the sci-kit "
   ]
  },
  {
   "cell_type": "code",
   "execution_count": 189,
   "id": "8f22ee70",
   "metadata": {},
   "outputs": [],
   "source": [
    "np.random.seed(2)\n",
    "\n",
    "n = len(df)"
   ]
  },
  {
   "cell_type": "code",
   "execution_count": 190,
   "id": "5509418a",
   "metadata": {},
   "outputs": [],
   "source": [
    "n_val = int(0.2 * n)\n",
    "n_test = int(0.2 * n)\n",
    "n_train = n - (n_val + n_test)"
   ]
  },
  {
   "cell_type": "code",
   "execution_count": 191,
   "id": "3468af4a",
   "metadata": {},
   "outputs": [],
   "source": [
    "df_indices = np.arange(n)\n",
    "\n",
    "np.random.shuffle(df_indices)\n",
    "\n",
    "df_shuffled = df.iloc[df_indices]"
   ]
  },
  {
   "cell_type": "code",
   "execution_count": 192,
   "id": "5941e0ca",
   "metadata": {},
   "outputs": [],
   "source": [
    "df_train = df_shuffled.iloc[:n_train].copy() \n",
    "df_val = df_shuffled.iloc[n_train:n_train+n_val].copy()\n",
    "df_test = df_shuffled.iloc[n_train+n_val:].copy()"
   ]
  },
  {
   "cell_type": "code",
   "execution_count": 193,
   "id": "89be18df",
   "metadata": {},
   "outputs": [
    {
     "data": {
      "text/html": [
       "<div>\n",
       "<style scoped>\n",
       "    .dataframe tbody tr th:only-of-type {\n",
       "        vertical-align: middle;\n",
       "    }\n",
       "\n",
       "    .dataframe tbody tr th {\n",
       "        vertical-align: top;\n",
       "    }\n",
       "\n",
       "    .dataframe thead th {\n",
       "        text-align: right;\n",
       "    }\n",
       "</style>\n",
       "<table border=\"1\" class=\"dataframe\">\n",
       "  <thead>\n",
       "    <tr style=\"text-align: right;\">\n",
       "      <th></th>\n",
       "      <th>cement</th>\n",
       "      <th>slag</th>\n",
       "      <th>flyash</th>\n",
       "      <th>water</th>\n",
       "      <th>superplasticizer</th>\n",
       "      <th>coarseaggregate</th>\n",
       "      <th>fineaggregate</th>\n",
       "      <th>age</th>\n",
       "      <th>csMPa</th>\n",
       "    </tr>\n",
       "  </thead>\n",
       "  <tbody>\n",
       "    <tr>\n",
       "      <th>456</th>\n",
       "      <td>194.7</td>\n",
       "      <td>0.0</td>\n",
       "      <td>100.5</td>\n",
       "      <td>170.2</td>\n",
       "      <td>7.5</td>\n",
       "      <td>998.0</td>\n",
       "      <td>901.8</td>\n",
       "      <td>56</td>\n",
       "      <td>43.39</td>\n",
       "    </tr>\n",
       "    <tr>\n",
       "      <th>988</th>\n",
       "      <td>153.6</td>\n",
       "      <td>144.2</td>\n",
       "      <td>112.3</td>\n",
       "      <td>220.1</td>\n",
       "      <td>10.1</td>\n",
       "      <td>923.2</td>\n",
       "      <td>657.9</td>\n",
       "      <td>28</td>\n",
       "      <td>16.50</td>\n",
       "    </tr>\n",
       "    <tr>\n",
       "      <th>809</th>\n",
       "      <td>252.0</td>\n",
       "      <td>0.0</td>\n",
       "      <td>0.0</td>\n",
       "      <td>185.0</td>\n",
       "      <td>0.0</td>\n",
       "      <td>1111.0</td>\n",
       "      <td>784.0</td>\n",
       "      <td>28</td>\n",
       "      <td>19.69</td>\n",
       "    </tr>\n",
       "    <tr>\n",
       "      <th>581</th>\n",
       "      <td>181.9</td>\n",
       "      <td>272.8</td>\n",
       "      <td>0.0</td>\n",
       "      <td>185.7</td>\n",
       "      <td>0.0</td>\n",
       "      <td>1012.4</td>\n",
       "      <td>714.3</td>\n",
       "      <td>7</td>\n",
       "      <td>12.37</td>\n",
       "    </tr>\n",
       "    <tr>\n",
       "      <th>549</th>\n",
       "      <td>333.0</td>\n",
       "      <td>0.0</td>\n",
       "      <td>0.0</td>\n",
       "      <td>192.0</td>\n",
       "      <td>0.0</td>\n",
       "      <td>931.2</td>\n",
       "      <td>842.6</td>\n",
       "      <td>90</td>\n",
       "      <td>41.68</td>\n",
       "    </tr>\n",
       "    <tr>\n",
       "      <th>...</th>\n",
       "      <td>...</td>\n",
       "      <td>...</td>\n",
       "      <td>...</td>\n",
       "      <td>...</td>\n",
       "      <td>...</td>\n",
       "      <td>...</td>\n",
       "      <td>...</td>\n",
       "      <td>...</td>\n",
       "      <td>...</td>\n",
       "    </tr>\n",
       "    <tr>\n",
       "      <th>472</th>\n",
       "      <td>446.0</td>\n",
       "      <td>24.0</td>\n",
       "      <td>79.0</td>\n",
       "      <td>162.0</td>\n",
       "      <td>11.6</td>\n",
       "      <td>967.0</td>\n",
       "      <td>712.0</td>\n",
       "      <td>28</td>\n",
       "      <td>44.42</td>\n",
       "    </tr>\n",
       "    <tr>\n",
       "      <th>499</th>\n",
       "      <td>491.0</td>\n",
       "      <td>26.0</td>\n",
       "      <td>123.0</td>\n",
       "      <td>210.0</td>\n",
       "      <td>3.9</td>\n",
       "      <td>882.0</td>\n",
       "      <td>699.0</td>\n",
       "      <td>28</td>\n",
       "      <td>55.55</td>\n",
       "    </tr>\n",
       "    <tr>\n",
       "      <th>659</th>\n",
       "      <td>108.3</td>\n",
       "      <td>162.4</td>\n",
       "      <td>0.0</td>\n",
       "      <td>203.5</td>\n",
       "      <td>0.0</td>\n",
       "      <td>938.2</td>\n",
       "      <td>849.0</td>\n",
       "      <td>90</td>\n",
       "      <td>29.23</td>\n",
       "    </tr>\n",
       "    <tr>\n",
       "      <th>629</th>\n",
       "      <td>225.0</td>\n",
       "      <td>0.0</td>\n",
       "      <td>0.0</td>\n",
       "      <td>181.0</td>\n",
       "      <td>0.0</td>\n",
       "      <td>1113.0</td>\n",
       "      <td>833.0</td>\n",
       "      <td>7</td>\n",
       "      <td>11.17</td>\n",
       "    </tr>\n",
       "    <tr>\n",
       "      <th>616</th>\n",
       "      <td>277.0</td>\n",
       "      <td>0.0</td>\n",
       "      <td>0.0</td>\n",
       "      <td>191.0</td>\n",
       "      <td>0.0</td>\n",
       "      <td>968.0</td>\n",
       "      <td>856.0</td>\n",
       "      <td>360</td>\n",
       "      <td>33.70</td>\n",
       "    </tr>\n",
       "  </tbody>\n",
       "</table>\n",
       "<p>618 rows × 9 columns</p>\n",
       "</div>"
      ],
      "text/plain": [
       "     cement   slag  flyash  water  superplasticizer  coarseaggregate  \\\n",
       "456   194.7    0.0   100.5  170.2               7.5            998.0   \n",
       "988   153.6  144.2   112.3  220.1              10.1            923.2   \n",
       "809   252.0    0.0     0.0  185.0               0.0           1111.0   \n",
       "581   181.9  272.8     0.0  185.7               0.0           1012.4   \n",
       "549   333.0    0.0     0.0  192.0               0.0            931.2   \n",
       "..      ...    ...     ...    ...               ...              ...   \n",
       "472   446.0   24.0    79.0  162.0              11.6            967.0   \n",
       "499   491.0   26.0   123.0  210.0               3.9            882.0   \n",
       "659   108.3  162.4     0.0  203.5               0.0            938.2   \n",
       "629   225.0    0.0     0.0  181.0               0.0           1113.0   \n",
       "616   277.0    0.0     0.0  191.0               0.0            968.0   \n",
       "\n",
       "     fineaggregate  age  csMPa  \n",
       "456          901.8   56  43.39  \n",
       "988          657.9   28  16.50  \n",
       "809          784.0   28  19.69  \n",
       "581          714.3    7  12.37  \n",
       "549          842.6   90  41.68  \n",
       "..             ...  ...    ...  \n",
       "472          712.0   28  44.42  \n",
       "499          699.0   28  55.55  \n",
       "659          849.0   90  29.23  \n",
       "629          833.0    7  11.17  \n",
       "616          856.0  360  33.70  \n",
       "\n",
       "[618 rows x 9 columns]"
      ]
     },
     "execution_count": 193,
     "metadata": {},
     "output_type": "execute_result"
    }
   ],
   "source": [
    "df_train"
   ]
  },
  {
   "cell_type": "code",
   "execution_count": 194,
   "id": "8ce492a7",
   "metadata": {},
   "outputs": [],
   "source": [
    "y_train = df_train.csMPa.values\n",
    "y_val = df_val.csMPa.values\n",
    "y_test = df_test.csMPa.values\n",
    "\n",
    "del df_train['csMPa']\n",
    "del df_val['csMPa']\n",
    "del df_test['csMPa']"
   ]
  },
  {
   "cell_type": "markdown",
   "id": "9062e1cf",
   "metadata": {},
   "source": [
    "# Determine weights"
   ]
  },
  {
   "cell_type": "code",
   "execution_count": 327,
   "id": "12fe85ed",
   "metadata": {},
   "outputs": [],
   "source": [
    "def train_linear_regression(X, y, r=0.0):\n",
    "    ones = np.ones(X.shape[0])\n",
    "    X = np.column_stack([ones, X])\n",
    "    \n",
    "    XTX = X.T.dot(X)\n",
    "    reg = r * np.eye(XTX.shape[0])\n",
    "    XTX_inv = np.linalg.inv(XTX)\n",
    "    \n",
    "    w = XTX_inv.dot(X.T).dot(y)\n",
    "    \n",
    "    return w[0], w[1:]"
   ]
  },
  {
   "cell_type": "markdown",
   "id": "6de55657",
   "metadata": {},
   "source": [
    "# Select your features"
   ]
  },
  {
   "cell_type": "code",
   "execution_count": 328,
   "id": "49e847d9",
   "metadata": {},
   "outputs": [],
   "source": [
    "features = ['superplasticizer', 'flyash', 'age']"
   ]
  },
  {
   "cell_type": "code",
   "execution_count": 329,
   "id": "cf8a188d",
   "metadata": {},
   "outputs": [],
   "source": [
    "def prepare_X(df, features):\n",
    "    df_num = df[features]\n",
    "    df_num = df_num.fillna(0)\n",
    "    X = df_num.values\n",
    "    return X"
   ]
  },
  {
   "cell_type": "code",
   "execution_count": 330,
   "id": "175d59cc",
   "metadata": {},
   "outputs": [],
   "source": [
    "X_train = prepare_X(df_train, features)\n",
    "w_0, w = train_linear_regression(X_train, y_train)\n"
   ]
  },
  {
   "cell_type": "code",
   "execution_count": 331,
   "id": "fdac4e92",
   "metadata": {},
   "outputs": [],
   "source": [
    "y_pred = w_0 + X_train.dot(w)"
   ]
  },
  {
   "cell_type": "code",
   "execution_count": 332,
   "id": "e9bbee69",
   "metadata": {},
   "outputs": [
    {
     "data": {
      "image/png": "[encoded data removed]",
      "text/plain": [
       "<Figure size 600x400 with 1 Axes>"
      ]
     },
     "metadata": {},
     "output_type": "display_data"
    }
   ],
   "source": [
    "plt.figure(figsize=(6, 4))\n",
    "\n",
    "sns.histplot(y_train, label='target', color='#220000', alpha=0.6, bins=40)\n",
    "sns.histplot(y_pred, label='prediction', color='#0000aa', alpha=0.8, bins=40)\n",
    "\n",
    "plt.legend()\n",
    "\n",
    "plt.ylabel('Frequency')\n",
    "plt.xlabel('csMPa')\n",
    "plt.title('Predictions vs actual distribution')\n",
    "\n",
    "plt.show()"
   ]
  },
  {
   "cell_type": "markdown",
   "id": "4901fa25",
   "metadata": {},
   "source": [
    "# Root mean squared error of prediction vs target"
   ]
  },
  {
   "cell_type": "code",
   "execution_count": 333,
   "id": "8e4c0519",
   "metadata": {},
   "outputs": [],
   "source": [
    "def rmse(y, y_pred):\n",
    "    error = y_pred - y\n",
    "    mse = (error ** 2).mean()\n",
    "    return np.sqrt(mse)"
   ]
  },
  {
   "cell_type": "code",
   "execution_count": 334,
   "id": "8e8026dc",
   "metadata": {},
   "outputs": [
    {
     "data": {
      "text/plain": [
       "13.064470186812535"
      ]
     },
     "execution_count": 334,
     "metadata": {},
     "output_type": "execute_result"
    }
   ],
   "source": [
    "rmse(y_train, y_pred)"
   ]
  },
  {
   "cell_type": "code",
   "execution_count": 335,
   "id": "6bc01395",
   "metadata": {},
   "outputs": [],
   "source": [
    "X_val = prepare_X(df_val, features)\n",
    "y_pred2 = w_0 + X_val.dot(w)"
   ]
  },
  {
   "cell_type": "code",
   "execution_count": 336,
   "id": "d44b7ea8",
   "metadata": {},
   "outputs": [
    {
     "data": {
      "text/plain": [
       "14.330645920478586"
      ]
     },
     "execution_count": 336,
     "metadata": {},
     "output_type": "execute_result"
    }
   ],
   "source": [
    "rmse(y_val, y_pred2)"
   ]
  },
  {
   "cell_type": "markdown",
   "id": "68d3da25",
   "metadata": {},
   "source": [
    "# Feature engineering"
   ]
  },
  {
   "cell_type": "code",
   "execution_count": 337,
   "id": "68e7e622",
   "metadata": {},
   "outputs": [],
   "source": [
    "features = ['cement', 'slag', 'flyash', 'water', 'age', 'superplasticizer', 'coarseaggregate', 'fineaggregate']"
   ]
  },
  {
   "cell_type": "code",
   "execution_count": 338,
   "id": "ef87ddc0",
   "metadata": {},
   "outputs": [],
   "source": [
    "X_train = prepare_X(df_train, features)\n",
    "w_0, w = train_linear_regression(X_train, y_train)"
   ]
  },
  {
   "cell_type": "code",
   "execution_count": 339,
   "id": "854d0d11",
   "metadata": {},
   "outputs": [],
   "source": [
    "y_pred = w_0 + X_train.dot(w)"
   ]
  },
  {
   "cell_type": "code",
   "execution_count": 340,
   "id": "4afc4389",
   "metadata": {},
   "outputs": [
    {
     "data": {
      "image/png": "[encoded data removed]",
      "text/plain": [
       "<Figure size 600x400 with 1 Axes>"
      ]
     },
     "metadata": {},
     "output_type": "display_data"
    }
   ],
   "source": [
    "plt.figure(figsize=(6, 4))\n",
    "\n",
    "sns.histplot(y_train, label='target', color='#220000', alpha=0.6, bins=40)\n",
    "sns.histplot(y_pred, label='prediction', color='#0000aa', alpha=0.8, bins=40)\n",
    "\n",
    "plt.legend()\n",
    "\n",
    "plt.ylabel('Frequency')\n",
    "plt.xlabel('csMPa')\n",
    "plt.title('Predictions vs actual distribution')\n",
    "\n",
    "plt.show()"
   ]
  },
  {
   "cell_type": "code",
   "execution_count": 341,
   "id": "8ae19e71",
   "metadata": {},
   "outputs": [
    {
     "name": "stdout",
     "output_type": "stream",
     "text": [
      "train RMSE:  10.460106104928043\n",
      "validation RMSE:  10.317552099902521\n"
     ]
    }
   ],
   "source": [
    "print(\"train RMSE: \", rmse(y_train, y_pred))\n",
    "\n",
    "X_val = prepare_X(df_val, features)\n",
    "y_pred = w_0 + X_val.dot(w)\n",
    "print(\"validation RMSE: \", rmse(y_val, y_pred))"
   ]
  },
  {
   "cell_type": "markdown",
   "id": "1cdac16b",
   "metadata": {},
   "source": [
    "# Linear Regression Exercise\n",
    "Goal: Train linear regression model yourself\n",
    "1. Select features from the dataframe\n",
    "2. Train model\n",
    "3. Plot histogram of prediction vs. actual"
   ]
  },
  {
   "cell_type": "markdown",
   "id": "c62afd4b",
   "metadata": {},
   "source": [
    "## Iterating through all combinations of indices using feature_comb_indices array: 0 - ignore feature, 1 - use feature"
   ]
  },
  {
   "cell_type": "code",
   "execution_count": 342,
   "id": "69fbd14f",
   "metadata": {},
   "outputs": [],
   "source": [
    "#test all combinations of features to find the best one\n",
    "\n",
    "feature_comb_indices = [[0, 0, 0, 0, 0, 0, 0, 0], \n",
    "                        [0, 0, 0, 0, 0, 0, 0, 1],\n",
    "                        [0, 0, 0, 0, 0, 0, 1, 0], \n",
    "                        [0, 0, 0, 0, 0, 0, 1, 1],\n",
    "                        [0, 0, 0, 0, 0, 1, 0, 0],\n",
    "                        [0, 0, 0, 0, 0, 1, 0, 1],\n",
    "                        [0, 0, 0, 0, 0, 1, 1, 0],\n",
    "                        [0, 0, 0, 0, 0, 1, 1, 1],\n",
    "                        [0, 0, 0, 0, 1, 0, 0, 0],\n",
    "                        [0, 0, 0, 0, 1, 0, 0, 1],\n",
    "                        [0, 0, 0, 0, 1, 0, 1, 0],\n",
    "                        [0, 0, 0, 0, 1, 0, 1, 1],\n",
    "                        [0, 0, 0, 0, 1, 1, 0, 0],\n",
    "                        [0, 0, 0, 0, 1, 1, 0, 1],\n",
    "                        [0, 0, 0, 0, 1, 1, 1, 0],\n",
    "                        [0, 0, 0, 0, 1, 1, 1, 1],\n",
    "                        [0, 0, 0, 1, 0, 0, 0, 0],\n",
    "                        [0, 0, 0, 1, 0, 0, 0, 1],\n",
    "                        [0, 0, 0, 1, 0, 0, 1, 0],\n",
    "                        [0, 0, 0, 1, 0, 0, 1, 1],\n",
    "                        [0, 0, 0, 1, 0, 1, 0, 0],\n",
    "                        [0, 0, 0, 1, 0, 1, 0, 1],\n",
    "                        [0, 0, 0, 1, 0, 1, 1, 0],\n",
    "                        [0, 0, 0, 1, 0, 1, 1, 1],\n",
    "                        [0, 0, 0, 1, 1, 0, 0, 0],\n",
    "                        [0, 0, 0, 1, 1, 0, 0, 1],\n",
    "                        [0, 0, 0, 1, 1, 0, 1, 0],\n",
    "                        [0, 0, 0, 1, 1, 0, 1, 1],\n",
    "                        [0, 0, 0, 1, 1, 1, 0, 0],\n",
    "                        [0, 0, 0, 1, 1, 1, 0, 1],\n",
    "                        [0, 0, 0, 1, 1, 1, 1, 0],\n",
    "                        [0, 0, 0, 1, 1, 1, 1, 1],\n",
    "                        [0, 0, 1, 0, 0, 0, 0, 0],\n",
    "                        [0, 0, 1, 0, 0, 0, 0, 1],\n",
    "                        [0, 0, 1, 0, 0, 0, 1, 0],\n",
    "                        [0, 0, 1, 0, 0, 0, 1, 1],\n",
    "                        [0, 0, 1, 0, 0, 1, 0, 0],\n",
    "                        [0, 0, 1, 0, 0, 1, 0, 1],\n",
    "                        [0, 0, 1, 0, 0, 1, 1, 0],\n",
    "                        [0, 0, 1, 0, 0, 1, 1, 1],\n",
    "                        [0, 0, 1, 0, 1, 0, 0, 0],\n",
    "                        [0, 0, 1, 0, 1, 0, 0, 1],\n",
    "                        [0, 0, 1, 0, 1, 0, 1, 0],\n",
    "                        [0, 0, 1, 0, 1, 0, 1, 1],\n",
    "                        [0, 0, 1, 0, 1, 1, 0, 0],\n",
    "                        [0, 0, 1, 0, 1, 1, 0, 1],\n",
    "                        [0, 0, 1, 0, 1, 1, 1, 0],\n",
    "                        [0, 0, 1, 0, 1, 1, 1, 1],\n",
    "                        [0, 0, 1, 1, 0, 0, 0, 0],\n",
    "                        [0, 0, 1, 1, 0, 0, 0, 1],\n",
    "                        [0, 0, 1, 1, 0, 0, 1, 0],\n",
    "                        [0, 0, 1, 1, 0, 0, 1, 1],\n",
    "                        [0, 0, 1, 1, 0, 1, 0, 0],\n",
    "                        [0, 0, 1, 1, 0, 1, 0, 1],\n",
    "                        [0, 0, 1, 1, 0, 1, 1, 0],\n",
    "                        [0, 0, 1, 1, 0, 1, 1, 1],\n",
    "                        [0, 0, 1, 1, 1, 0, 0, 0],\n",
    "                        [0, 0, 1, 1, 1, 0, 0, 1],\n",
    "                        [0, 0, 1, 1, 1, 0, 1, 0],\n",
    "                        [0, 0, 1, 1, 1, 0, 1, 1],\n",
    "                        [0, 0, 1, 1, 1, 1, 0, 0],\n",
    "                        [0, 0, 1, 1, 1, 1, 0, 1],\n",
    "                        [0, 0, 1, 1, 1, 1, 1, 0],\n",
    "                        [0, 0, 1, 1, 1, 1, 1, 1],\n",
    "                        [0, 1, 0, 0, 0, 0, 0, 0],\n",
    "                        [0, 1, 0, 0, 0, 0, 0, 1],\n",
    "                        [0, 1, 0, 0, 0, 0, 1, 0],\n",
    "                        [0, 1, 0, 0, 0, 0, 1, 1],\n",
    "                        [0, 1, 0, 0, 0, 1, 0, 0],\n",
    "                        [0, 1, 0, 0, 0, 1, 0, 1],\n",
    "                        [0, 1, 0, 0, 0, 1, 1, 0],\n",
    "                        [0, 1, 0, 0, 0, 1, 1, 1],\n",
    "                        [0, 1, 0, 0, 1, 0, 0, 0],\n",
    "                        [0, 1, 0, 0, 1, 0, 0, 1],\n",
    "                        [0, 1, 0, 0, 1, 0, 1, 0],\n",
    "                        [0, 1, 0, 0, 1, 0, 1, 1],\n",
    "                        [0, 1, 0, 0, 1, 1, 0, 0],\n",
    "                        [0, 1, 0, 0, 1, 1, 0, 1],\n",
    "                        [0, 1, 0, 0, 1, 1, 1, 0],\n",
    "                        [0, 1, 0, 0, 1, 1, 1, 1],\n",
    "                        [0, 1, 0, 1, 0, 0, 0, 0],\n",
    "                        [0, 1, 0, 1, 0, 0, 0, 1],\n",
    "                        [0, 1, 0, 1, 0, 0, 1, 0],\n",
    "                        [0, 1, 0, 1, 0, 0, 1, 1],\n",
    "                        [0, 1, 0, 1, 0, 1, 0, 0],\n",
    "                        [0, 1, 0, 1, 0, 1, 0, 1],\n",
    "                        [0, 1, 0, 1, 0, 1, 1, 0],\n",
    "                        [0, 1, 0, 1, 0, 1, 1, 1],\n",
    "                        [0, 1, 0, 1, 1, 0, 0, 0],\n",
    "                        [0, 1, 0, 1, 1, 0, 0, 1],\n",
    "                        [0, 1, 0, 1, 1, 0, 1, 0],\n",
    "                        [0, 1, 0, 1, 1, 0, 1, 1],\n",
    "                        [0, 1, 0, 1, 1, 1, 0, 0],\n",
    "                        [0, 1, 0, 1, 1, 1, 0, 1],\n",
    "                        [0, 1, 0, 1, 1, 1, 1, 0],\n",
    "                        [0, 1, 0, 1, 1, 1, 1, 1],\n",
    "                        [0, 1, 1, 0, 0, 0, 0, 0],\n",
    "                        [0, 1, 1, 0, 0, 0, 0, 1],\n",
    "                        [0, 1, 1, 0, 0, 0, 1, 0],\n",
    "                        [0, 1, 1, 0, 0, 0, 1, 1],\n",
    "                        [0, 1, 1, 0, 0, 1, 0, 0],\n",
    "                        [0, 1, 1, 0, 0, 1, 0, 1],\n",
    "                        [0, 1, 1, 0, 0, 1, 1, 0],\n",
    "                        [0, 1, 1, 0, 0, 1, 1, 1],\n",
    "                        [0, 1, 1, 0, 1, 0, 0, 0],\n",
    "                        [0, 1, 1, 0, 1, 0, 0, 1],\n",
    "                        [0, 1, 1, 0, 1, 0, 1, 0],\n",
    "                        [0, 1, 1, 0, 1, 0, 1, 1],\n",
    "                        [0, 1, 1, 0, 1, 1, 0, 0],\n",
    "                        [0, 1, 1, 0, 1, 1, 0, 1],\n",
    "                        [0, 1, 1, 0, 1, 1, 1, 0],\n",
    "                        [0, 1, 1, 0, 1, 1, 1, 1],\n",
    "                        [0, 1, 1, 1, 0, 0, 0, 0],\n",
    "                        [0, 1, 1, 1, 0, 0, 0, 1],\n",
    "                        [0, 1, 1, 1, 0, 0, 1, 0],\n",
    "                        [0, 1, 1, 1, 0, 0, 1, 1],\n",
    "                        [0, 1, 1, 1, 0, 1, 0, 0],\n",
    "                        [0, 1, 1, 1, 0, 1, 0, 1],\n",
    "                        [0, 1, 1, 1, 0, 1, 1, 0],\n",
    "                        [0, 1, 1, 1, 0, 1, 1, 1],\n",
    "                        [0, 1, 1, 1, 1, 0, 0, 0],\n",
    "                        [0, 1, 1, 1, 1, 0, 0, 1],\n",
    "                        [0, 1, 1, 1, 1, 0, 1, 0],\n",
    "                        [0, 1, 1, 1, 1, 0, 1, 1],\n",
    "                        [0, 1, 1, 1, 1, 1, 0, 0],\n",
    "                        [0, 1, 1, 1, 1, 1, 0, 1],\n",
    "                        [0, 1, 1, 1, 1, 1, 1, 0],\n",
    "                        [0, 1, 1, 1, 1, 1, 1, 1],\n",
    "                        [1, 0, 0, 0, 0, 0, 0, 0],\n",
    "                        [1, 0, 0, 0, 0, 0, 0, 1],\n",
    "                        [1, 0, 0, 0, 0, 0, 1, 0],\n",
    "                        [1, 0, 0, 0, 0, 0, 1, 1],\n",
    "                        [1, 0, 0, 0, 0, 1, 0, 0],\n",
    "                        [1, 0, 0, 0, 0, 1, 0, 1],\n",
    "                        [1, 0, 0, 0, 0, 1, 1, 0],\n",
    "                        [1, 0, 0, 0, 0, 1, 1, 1],\n",
    "                        [1, 0, 0, 0, 1, 0, 0, 0],\n",
    "                        [1, 0, 0, 0, 1, 0, 0, 1],\n",
    "                        [1, 0, 0, 0, 1, 0, 1, 0],\n",
    "                        [1, 0, 0, 0, 1, 0, 1, 1],\n",
    "                        [1, 0, 0, 0, 1, 1, 0, 0],\n",
    "                        [1, 0, 0, 0, 1, 1, 0, 1],\n",
    "                        [1, 0, 0, 0, 1, 1, 1, 0],\n",
    "                        [1, 0, 0, 0, 1, 1, 1, 1],\n",
    "                        [1, 0, 0, 1, 0, 0, 0, 0],\n",
    "                        [1, 0, 0, 1, 0, 0, 0, 1],\n",
    "                        [1, 0, 0, 1, 0, 0, 1, 0],\n",
    "                        [1, 0, 0, 1, 0, 0, 1, 1],\n",
    "                        [1, 0, 0, 1, 0, 1, 0, 0],\n",
    "                        [1, 0, 0, 1, 0, 1, 0, 1],\n",
    "                        [1, 0, 0, 1, 0, 1, 1, 0],\n",
    "                        [1, 0, 0, 1, 0, 1, 1, 1],\n",
    "                        [1, 0, 0, 1, 1, 0, 0, 0],\n",
    "                        [1, 0, 0, 1, 1, 0, 0, 1],\n",
    "                        [1, 0, 0, 1, 1, 0, 1, 0],\n",
    "                        [1, 0, 0, 1, 1, 0, 1, 1],\n",
    "                        [1, 0, 0, 1, 1, 1, 0, 0],\n",
    "                        [1, 0, 0, 1, 1, 1, 0, 1],\n",
    "                        [1, 0, 0, 1, 1, 1, 1, 0],\n",
    "                        [1, 0, 0, 1, 1, 1, 1, 1],\n",
    "                        [1, 0, 1, 0, 0, 0, 0, 0],\n",
    "                        [1, 0, 1, 0, 0, 0, 0, 1],\n",
    "                        [1, 0, 1, 0, 0, 0, 1, 0],\n",
    "                        [1, 0, 1, 0, 0, 0, 1, 1],\n",
    "                        [1, 0, 1, 0, 0, 1, 0, 0],\n",
    "                        [1, 0, 1, 0, 0, 1, 0, 1],\n",
    "                        [1, 0, 1, 0, 0, 1, 1, 0],\n",
    "                        [1, 0, 1, 0, 0, 1, 1, 1],\n",
    "                        [1, 0, 1, 0, 1, 0, 0, 0],\n",
    "                        [1, 0, 1, 0, 1, 0, 0, 1],\n",
    "                        [1, 0, 1, 0, 1, 0, 1, 0],\n",
    "                        [1, 0, 1, 0, 1, 0, 1, 1],\n",
    "                        [1, 0, 1, 0, 1, 1, 0, 0],\n",
    "                        [1, 0, 1, 0, 1, 1, 0, 1],\n",
    "                        [1, 0, 1, 0, 1, 1, 1, 0],\n",
    "                        [1, 0, 1, 0, 1, 1, 1, 1],\n",
    "                        [1, 0, 1, 1, 0, 0, 0, 0],\n",
    "                        [1, 0, 1, 1, 0, 0, 0, 1],\n",
    "                        [1, 0, 1, 1, 0, 0, 1, 0],\n",
    "                        [1, 0, 1, 1, 0, 0, 1, 1],\n",
    "                        [1, 0, 1, 1, 0, 1, 0, 0],\n",
    "                        [1, 0, 1, 1, 0, 1, 0, 1],\n",
    "                        [1, 0, 1, 1, 0, 1, 1, 0],\n",
    "                        [1, 0, 1, 1, 0, 1, 1, 1],\n",
    "                        [1, 0, 1, 1, 1, 0, 0, 0],\n",
    "                        [1, 0, 1, 1, 1, 0, 0, 1],\n",
    "                        [1, 0, 1, 1, 1, 0, 1, 0],\n",
    "                        [1, 0, 1, 1, 1, 0, 1, 1],\n",
    "                        [1, 0, 1, 1, 1, 1, 0, 0],\n",
    "                        [1, 0, 1, 1, 1, 1, 0, 1],\n",
    "                        [1, 0, 1, 1, 1, 1, 1, 0],\n",
    "                        [1, 0, 1, 1, 1, 1, 1, 1],\n",
    "                        [1, 1, 0, 0, 0, 0, 0, 0],\n",
    "                        [1, 1, 0, 0, 0, 0, 0, 1],\n",
    "                        [1, 1, 0, 0, 0, 0, 1, 0],\n",
    "                        [1, 1, 0, 0, 0, 0, 1, 1],\n",
    "                        [1, 1, 0, 0, 0, 1, 0, 0],\n",
    "                        [1, 1, 0, 0, 0, 1, 0, 1],\n",
    "                        [1, 1, 0, 0, 0, 1, 1, 0],\n",
    "                        [1, 1, 0, 0, 0, 1, 1, 1],\n",
    "                        [1, 1, 0, 0, 1, 0, 0, 0],\n",
    "                        [1, 1, 0, 0, 1, 0, 0, 1],\n",
    "                        [1, 1, 0, 0, 1, 0, 1, 0],\n",
    "                        [1, 1, 0, 0, 1, 0, 1, 1],\n",
    "                        [1, 1, 0, 0, 1, 1, 0, 0],\n",
    "                        [1, 1, 0, 0, 1, 1, 0, 1],\n",
    "                        [1, 1, 0, 0, 1, 1, 1, 0],\n",
    "                        [1, 1, 0, 0, 1, 1, 1, 1],\n",
    "                        [1, 1, 0, 1, 0, 0, 0, 0],\n",
    "                        [1, 1, 0, 1, 0, 0, 0, 1],\n",
    "                        [1, 1, 0, 1, 0, 0, 1, 0],\n",
    "                        [1, 1, 0, 1, 0, 0, 1, 1],\n",
    "                        [1, 1, 0, 1, 0, 1, 0, 0],\n",
    "                        [1, 1, 0, 1, 0, 1, 0, 1],\n",
    "                        [1, 1, 0, 1, 0, 1, 1, 0],\n",
    "                        [1, 1, 0, 1, 0, 1, 1, 1],\n",
    "                        [1, 1, 0, 1, 1, 0, 0, 0],\n",
    "                        [1, 1, 0, 1, 1, 0, 0, 1],\n",
    "                        [1, 1, 0, 1, 1, 0, 1, 0],\n",
    "                        [1, 1, 0, 1, 1, 0, 1, 1],\n",
    "                        [1, 1, 0, 1, 1, 1, 0, 0],\n",
    "                        [1, 1, 0, 1, 1, 1, 0, 1],\n",
    "                        [1, 1, 0, 1, 1, 1, 1, 0],\n",
    "                        [1, 1, 0, 1, 1, 1, 1, 1],\n",
    "                        [1, 1, 1, 0, 0, 0, 0, 0], \n",
    "                        [1, 1, 1, 0, 0, 0, 0, 1],\n",
    "                        [1, 1, 1, 0, 0, 0, 1, 0],\n",
    "                        [1, 1, 1, 0, 0, 0, 1, 1],\n",
    "                        [1, 1, 1, 0, 0, 1, 0, 0],\n",
    "                        [1, 1, 1, 0, 0, 1, 0, 1],\n",
    "                        [1, 1, 1, 0, 0, 1, 1, 0],\n",
    "                        [1, 1, 1, 0, 0, 1, 1, 1],\n",
    "                        [1, 1, 1, 0, 1, 0, 0, 0],\n",
    "                        [1, 1, 1, 0, 1, 0, 0, 1],\n",
    "                        [1, 1, 1, 0, 1, 0, 1, 0],\n",
    "                        [1, 1, 1, 0, 1, 0, 1, 1],\n",
    "                        [1, 1, 1, 0, 1, 1, 0, 0],\n",
    "                        [1, 1, 1, 0, 1, 1, 0, 1],\n",
    "                        [1, 1, 1, 0, 1, 1, 1, 0],\n",
    "                        [1, 1, 1, 0, 1, 1, 1, 1],\n",
    "                        [1, 1, 1, 1, 0, 0, 0, 0],\n",
    "                        [1, 1, 1, 1, 0, 0, 0, 1],\n",
    "                        [1, 1, 1, 1, 0, 0, 1, 0],\n",
    "                        [1, 1, 1, 1, 0, 0, 1, 1],\n",
    "                        [1, 1, 1, 1, 0, 1, 0, 0],\n",
    "                        [1, 1, 1, 1, 0, 1, 0, 1],\n",
    "                        [1, 1, 1, 1, 0, 1, 1, 0],\n",
    "                        [1, 1, 1, 1, 0, 1, 1, 1],\n",
    "                        [1, 1, 1, 1, 1, 0, 0, 0],\n",
    "                        [1, 1, 1, 1, 1, 0, 0, 1],\n",
    "                        [1, 1, 1, 1, 1, 0, 1, 0],\n",
    "                        [1, 1, 1, 1, 1, 0, 1, 1],\n",
    "                        [1, 1, 1, 1, 1, 1, 0, 0],\n",
    "                        [1, 1, 1, 1, 1, 1, 0, 1],\n",
    "                        [1, 1, 1, 1, 1, 1, 1, 0],\n",
    "                        [1, 1, 1, 1, 1, 1, 1, 1]]"
   ]
  },
  {
   "cell_type": "code",
   "execution_count": 343,
   "id": "90d66ea2",
   "metadata": {},
   "outputs": [
    {
     "data": {
      "text/plain": [
       "[0, 0, 0, 0, 0, 0, 0, 0]"
      ]
     },
     "execution_count": 343,
     "metadata": {},
     "output_type": "execute_result"
    }
   ],
   "source": [
    "feature_comb_indices[0]"
   ]
  },
  {
   "cell_type": "code",
   "execution_count": 344,
   "id": "ba8e68e5",
   "metadata": {},
   "outputs": [],
   "source": [
    "features = ['cement', 'slag', 'flyash', 'water', 'age', 'superplasticizer', 'coarseaggregate', 'fineaggregate']"
   ]
  },
  {
   "cell_type": "code",
   "execution_count": 345,
   "id": "66e9ab04",
   "metadata": {},
   "outputs": [
    {
     "data": {
      "text/plain": [
       "'cement'"
      ]
     },
     "execution_count": 345,
     "metadata": {},
     "output_type": "execute_result"
    }
   ],
   "source": [
    "features[0]"
   ]
  },
  {
   "cell_type": "code",
   "execution_count": 346,
   "id": "aa53246f",
   "metadata": {},
   "outputs": [],
   "source": [
    "#make functions to: \n",
    "    #get features from indices - get_features\n",
    "    #train model calling prepare X, calc RMSE, find lowest RMSE - train_model() "
   ]
  },
  {
   "cell_type": "code",
   "execution_count": 347,
   "id": "7f34d837",
   "metadata": {},
   "outputs": [
    {
     "data": {
      "text/plain": [
       "['age', 'superplasticizer', 'coarseaggregate', 'fineaggregate']"
      ]
     },
     "execution_count": 347,
     "metadata": {},
     "output_type": "execute_result"
    }
   ],
   "source": [
    "def get_features(feature_set):\n",
    "    \n",
    "    curr_features = []\n",
    "    for i in range(len(feature_set)):\n",
    "        if feature_set[i] == 1:\n",
    "            curr_features.append(features[i])\n",
    "    \n",
    "    return curr_features\n",
    "\n",
    "get_features(feature_comb_indices[15])"
   ]
  },
  {
   "cell_type": "code",
   "execution_count": 348,
   "id": "58937423",
   "metadata": {},
   "outputs": [
    {
     "data": {
      "text/html": [
       "<div>\n",
       "<style scoped>\n",
       "    .dataframe tbody tr th:only-of-type {\n",
       "        vertical-align: middle;\n",
       "    }\n",
       "\n",
       "    .dataframe tbody tr th {\n",
       "        vertical-align: top;\n",
       "    }\n",
       "\n",
       "    .dataframe thead th {\n",
       "        text-align: right;\n",
       "    }\n",
       "</style>\n",
       "<table border=\"1\" class=\"dataframe\">\n",
       "  <thead>\n",
       "    <tr style=\"text-align: right;\">\n",
       "      <th></th>\n",
       "      <th>cement</th>\n",
       "      <th>slag</th>\n",
       "      <th>flyash</th>\n",
       "      <th>water</th>\n",
       "      <th>superplasticizer</th>\n",
       "      <th>coarseaggregate</th>\n",
       "      <th>fineaggregate</th>\n",
       "      <th>age</th>\n",
       "    </tr>\n",
       "  </thead>\n",
       "  <tbody>\n",
       "    <tr>\n",
       "      <th>456</th>\n",
       "      <td>0.211644</td>\n",
       "      <td>0.000000</td>\n",
       "      <td>0.5025</td>\n",
       "      <td>0.420139</td>\n",
       "      <td>0.232919</td>\n",
       "      <td>0.591059</td>\n",
       "      <td>0.772203</td>\n",
       "      <td>0.151099</td>\n",
       "    </tr>\n",
       "    <tr>\n",
       "      <th>988</th>\n",
       "      <td>0.117808</td>\n",
       "      <td>0.401224</td>\n",
       "      <td>0.5615</td>\n",
       "      <td>0.853299</td>\n",
       "      <td>0.313665</td>\n",
       "      <td>0.366637</td>\n",
       "      <td>0.160311</td>\n",
       "      <td>0.074176</td>\n",
       "    </tr>\n",
       "    <tr>\n",
       "      <th>809</th>\n",
       "      <td>0.342466</td>\n",
       "      <td>0.000000</td>\n",
       "      <td>0.0000</td>\n",
       "      <td>0.548611</td>\n",
       "      <td>0.000000</td>\n",
       "      <td>0.930093</td>\n",
       "      <td>0.476668</td>\n",
       "      <td>0.074176</td>\n",
       "    </tr>\n",
       "    <tr>\n",
       "      <th>581</th>\n",
       "      <td>0.182420</td>\n",
       "      <td>0.759043</td>\n",
       "      <td>0.0000</td>\n",
       "      <td>0.554687</td>\n",
       "      <td>0.000000</td>\n",
       "      <td>0.634263</td>\n",
       "      <td>0.301806</td>\n",
       "      <td>0.016484</td>\n",
       "    </tr>\n",
       "    <tr>\n",
       "      <th>549</th>\n",
       "      <td>0.527397</td>\n",
       "      <td>0.000000</td>\n",
       "      <td>0.0000</td>\n",
       "      <td>0.609375</td>\n",
       "      <td>0.000000</td>\n",
       "      <td>0.390639</td>\n",
       "      <td>0.623683</td>\n",
       "      <td>0.244505</td>\n",
       "    </tr>\n",
       "    <tr>\n",
       "      <th>...</th>\n",
       "      <td>...</td>\n",
       "      <td>...</td>\n",
       "      <td>...</td>\n",
       "      <td>...</td>\n",
       "      <td>...</td>\n",
       "      <td>...</td>\n",
       "      <td>...</td>\n",
       "      <td>...</td>\n",
       "    </tr>\n",
       "    <tr>\n",
       "      <th>472</th>\n",
       "      <td>0.785388</td>\n",
       "      <td>0.066778</td>\n",
       "      <td>0.3950</td>\n",
       "      <td>0.348958</td>\n",
       "      <td>0.360248</td>\n",
       "      <td>0.498050</td>\n",
       "      <td>0.296036</td>\n",
       "      <td>0.074176</td>\n",
       "    </tr>\n",
       "    <tr>\n",
       "      <th>499</th>\n",
       "      <td>0.888128</td>\n",
       "      <td>0.072343</td>\n",
       "      <td>0.6150</td>\n",
       "      <td>0.765625</td>\n",
       "      <td>0.121118</td>\n",
       "      <td>0.243024</td>\n",
       "      <td>0.263422</td>\n",
       "      <td>0.074176</td>\n",
       "    </tr>\n",
       "    <tr>\n",
       "      <th>659</th>\n",
       "      <td>0.014384</td>\n",
       "      <td>0.451864</td>\n",
       "      <td>0.0000</td>\n",
       "      <td>0.709201</td>\n",
       "      <td>0.000000</td>\n",
       "      <td>0.411641</td>\n",
       "      <td>0.639739</td>\n",
       "      <td>0.244505</td>\n",
       "    </tr>\n",
       "    <tr>\n",
       "      <th>629</th>\n",
       "      <td>0.280822</td>\n",
       "      <td>0.000000</td>\n",
       "      <td>0.0000</td>\n",
       "      <td>0.513889</td>\n",
       "      <td>0.000000</td>\n",
       "      <td>0.936094</td>\n",
       "      <td>0.599599</td>\n",
       "      <td>0.016484</td>\n",
       "    </tr>\n",
       "    <tr>\n",
       "      <th>616</th>\n",
       "      <td>0.399543</td>\n",
       "      <td>0.000000</td>\n",
       "      <td>0.0000</td>\n",
       "      <td>0.600694</td>\n",
       "      <td>0.000000</td>\n",
       "      <td>0.501050</td>\n",
       "      <td>0.657301</td>\n",
       "      <td>0.986264</td>\n",
       "    </tr>\n",
       "  </tbody>\n",
       "</table>\n",
       "<p>618 rows × 8 columns</p>\n",
       "</div>"
      ],
      "text/plain": [
       "       cement      slag  flyash     water  superplasticizer  coarseaggregate  \\\n",
       "456  0.211644  0.000000  0.5025  0.420139          0.232919         0.591059   \n",
       "988  0.117808  0.401224  0.5615  0.853299          0.313665         0.366637   \n",
       "809  0.342466  0.000000  0.0000  0.548611          0.000000         0.930093   \n",
       "581  0.182420  0.759043  0.0000  0.554687          0.000000         0.634263   \n",
       "549  0.527397  0.000000  0.0000  0.609375          0.000000         0.390639   \n",
       "..        ...       ...     ...       ...               ...              ...   \n",
       "472  0.785388  0.066778  0.3950  0.348958          0.360248         0.498050   \n",
       "499  0.888128  0.072343  0.6150  0.765625          0.121118         0.243024   \n",
       "659  0.014384  0.451864  0.0000  0.709201          0.000000         0.411641   \n",
       "629  0.280822  0.000000  0.0000  0.513889          0.000000         0.936094   \n",
       "616  0.399543  0.000000  0.0000  0.600694          0.000000         0.501050   \n",
       "\n",
       "     fineaggregate       age  \n",
       "456       0.772203  0.151099  \n",
       "988       0.160311  0.074176  \n",
       "809       0.476668  0.074176  \n",
       "581       0.301806  0.016484  \n",
       "549       0.623683  0.244505  \n",
       "..             ...       ...  \n",
       "472       0.296036  0.074176  \n",
       "499       0.263422  0.074176  \n",
       "659       0.639739  0.244505  \n",
       "629       0.599599  0.016484  \n",
       "616       0.657301  0.986264  \n",
       "\n",
       "[618 rows x 8 columns]"
      ]
     },
     "execution_count": 348,
     "metadata": {},
     "output_type": "execute_result"
    }
   ],
   "source": [
    "df_train"
   ]
  },
  {
   "cell_type": "code",
   "execution_count": 349,
   "id": "50191649",
   "metadata": {},
   "outputs": [],
   "source": [
    "\n",
    "def train_model(df_train, df_val):\n",
    "    \n",
    "    for i in range(256):\n",
    "        \n",
    "        print(\"Feature #\", i, \": \", feature_comb_indices[i], \"\\t RMSE: \", end = \" \")\n",
    "\n",
    "        train_feats = get_features(feature_comb_indices[i])\n",
    "    \n",
    "        X_train = prepare_X(df_train, train_feats)\n",
    "        w_0, w = train_linear_regression(X_train, y_train)\n",
    "        y_pred = w_0 + X_train.dot(w)\n",
    "        \n",
    "        print(\"train RMSE: \", round(rmse(y_train, y_pred),3), end = \" \")\n",
    "\n",
    "\n",
    "        X_val = prepare_X(df_val, train_feats )\n",
    "        y_pred = w_0 + X_val.dot(w)\n",
    "        print(\"validation RMSE: \", round(rmse(y_val, y_pred),3))\n",
    "            \n",
    "        "
   ]
  },
  {
   "cell_type": "code",
   "execution_count": 350,
   "id": "3d6fd723",
   "metadata": {},
   "outputs": [
    {
     "name": "stdout",
     "output_type": "stream",
     "text": [
      "Feature # 0 :  [0, 0, 0, 0, 0, 0, 0, 0] \t RMSE:  train RMSE:  16.796 validation RMSE:  17.543\n",
      "Feature # 1 :  [0, 0, 0, 0, 0, 0, 0, 1] \t RMSE:  train RMSE:  16.676 validation RMSE:  17.054\n",
      "Feature # 2 :  [0, 0, 0, 0, 0, 0, 1, 0] \t RMSE:  train RMSE:  16.481 validation RMSE:  17.741\n",
      "Feature # 3 :  [0, 0, 0, 0, 0, 0, 1, 1] \t RMSE:  train RMSE:  16.291 validation RMSE:  17.066\n",
      "Feature # 4 :  [0, 0, 0, 0, 0, 1, 0, 0] \t RMSE:  train RMSE:  15.36 validation RMSE:  16.835\n",
      "Feature # 5 :  [0, 0, 0, 0, 0, 1, 0, 1] \t RMSE:  train RMSE:  14.999 validation RMSE:  15.793\n",
      "Feature # 6 :  [0, 0, 0, 0, 0, 1, 1, 0] \t RMSE:  train RMSE:  15.29 validation RMSE:  16.958\n",
      "Feature # 7 :  [0, 0, 0, 0, 0, 1, 1, 1] \t RMSE:  train RMSE:  14.891 validation RMSE:  15.834\n",
      "Feature # 8 :  [0, 0, 0, 0, 1, 0, 0, 0] \t RMSE:  train RMSE:  15.762 validation RMSE:  16.359\n",
      "Feature # 9 :  [0, 0, 0, 0, 1, 0, 0, 1] \t RMSE:  train RMSE:  15.694 validation RMSE:  16.094\n",
      "Feature # 10 :  [0, 0, 0, 0, 1, 0, 1, 0] \t RMSE:  train RMSE:  15.421 validation RMSE:  16.552\n",
      "Feature # 11 :  [0, 0, 0, 0, 1, 0, 1, 1] \t RMSE:  train RMSE:  15.297 validation RMSE:  16.144\n",
      "Feature # 12 :  [0, 0, 0, 0, 1, 1, 0, 0] \t RMSE:  train RMSE:  13.657 validation RMSE:  15.187\n",
      "Feature # 13 :  [0, 0, 0, 0, 1, 1, 0, 1] \t RMSE:  train RMSE:  13.356 validation RMSE:  14.466\n",
      "Feature # 14 :  [0, 0, 0, 0, 1, 1, 1, 0] \t RMSE:  train RMSE:  13.608 validation RMSE:  15.296\n",
      "Feature # 15 :  [0, 0, 0, 0, 1, 1, 1, 1] \t RMSE:  train RMSE:  13.276 validation RMSE:  14.52\n",
      "Feature # 16 :  [0, 0, 0, 1, 0, 0, 0, 0] \t RMSE:  train RMSE:  15.962 validation RMSE:  16.726\n",
      "Feature # 17 :  [0, 0, 0, 1, 0, 0, 0, 1] \t RMSE:  train RMSE:  15.201 validation RMSE:  15.306\n",
      "Feature # 18 :  [0, 0, 0, 1, 0, 0, 1, 0] \t RMSE:  train RMSE:  15.393 validation RMSE:  16.822\n",
      "Feature # 19 :  [0, 0, 0, 1, 0, 0, 1, 1] \t RMSE:  train RMSE:  14.121 validation RMSE:  14.617\n",
      "Feature # 20 :  [0, 0, 0, 1, 0, 1, 0, 0] \t RMSE:  train RMSE:  15.327 validation RMSE:  16.708\n",
      "Feature # 21 :  [0, 0, 0, 1, 0, 1, 0, 1] \t RMSE:  train RMSE:  14.744 validation RMSE:  15.177\n",
      "Feature # 22 :  [0, 0, 0, 1, 0, 1, 1, 0] \t RMSE:  train RMSE:  15.164 validation RMSE:  16.765\n",
      "Feature # 23 :  [0, 0, 0, 1, 0, 1, 1, 1] \t RMSE:  train RMSE:  14.113 validation RMSE:  14.624\n",
      "Feature # 24 :  [0, 0, 0, 1, 1, 0, 0, 0] \t RMSE:  train RMSE:  14.264 validation RMSE:  14.847\n",
      "Feature # 25 :  [0, 0, 0, 1, 1, 0, 0, 1] \t RMSE:  train RMSE:  13.385 validation RMSE:  13.83\n",
      "Feature # 26 :  [0, 0, 0, 1, 1, 0, 1, 0] \t RMSE:  train RMSE:  13.518 validation RMSE:  14.851\n",
      "Feature # 27 :  [0, 0, 0, 1, 1, 0, 1, 1] \t RMSE:  train RMSE:  11.974 validation RMSE:  13.064\n",
      "Feature # 28 :  [0, 0, 0, 1, 1, 1, 0, 0] \t RMSE:  train RMSE:  13.491 validation RMSE:  14.796\n",
      "Feature # 29 :  [0, 0, 0, 1, 1, 1, 0, 1] \t RMSE:  train RMSE:  12.816 validation RMSE:  13.576\n",
      "Feature # 30 :  [0, 0, 0, 1, 1, 1, 1, 0] \t RMSE:  train RMSE:  13.256 validation RMSE:  14.805\n",
      "Feature # 31 :  [0, 0, 0, 1, 1, 1, 1, 1] \t RMSE:  train RMSE:  11.967 validation RMSE:  13.052\n",
      "Feature # 32 :  [0, 0, 1, 0, 0, 0, 0, 0] \t RMSE:  train RMSE:  16.686 validation RMSE:  17.269\n",
      "Feature # 33 :  [0, 0, 1, 0, 0, 0, 0, 1] \t RMSE:  train RMSE:  16.575 validation RMSE:  16.823\n",
      "Feature # 34 :  [0, 0, 1, 0, 0, 0, 1, 0] \t RMSE:  train RMSE:  16.367 validation RMSE:  17.457\n",
      "Feature # 35 :  [0, 0, 1, 0, 0, 0, 1, 1] \t RMSE:  train RMSE:  16.19 validation RMSE:  16.832\n",
      "Feature # 36 :  [0, 0, 1, 0, 0, 1, 0, 0] \t RMSE:  train RMSE:  14.652 validation RMSE:  15.854\n",
      "Feature # 37 :  [0, 0, 1, 0, 0, 1, 0, 1] \t RMSE:  train RMSE:  14.25 validation RMSE:  14.755\n",
      "Feature # 38 :  [0, 0, 1, 0, 0, 1, 1, 0] \t RMSE:  train RMSE:  14.618 validation RMSE:  15.954\n",
      "Feature # 39 :  [0, 0, 1, 0, 0, 1, 1, 1] \t RMSE:  train RMSE:  14.188 validation RMSE:  14.802\n",
      "Feature # 40 :  [0, 0, 1, 0, 1, 0, 0, 0] \t RMSE:  train RMSE:  15.724 validation RMSE:  16.222\n",
      "Feature # 41 :  [0, 0, 1, 0, 1, 0, 0, 1] \t RMSE:  train RMSE:  15.658 validation RMSE:  15.972\n",
      "Feature # 42 :  [0, 0, 1, 0, 1, 0, 1, 0] \t RMSE:  train RMSE:  15.381 validation RMSE:  16.409\n",
      "Feature # 43 :  [0, 0, 1, 0, 1, 0, 1, 1] \t RMSE:  train RMSE:  15.262 validation RMSE:  16.019\n",
      "Feature # 44 :  [0, 0, 1, 0, 1, 1, 0, 0] \t RMSE:  train RMSE:  13.064 validation RMSE:  14.331\n",
      "Feature # 45 :  [0, 0, 1, 0, 1, 1, 0, 1] \t RMSE:  train RMSE:  12.724 validation RMSE:  13.553\n",
      "Feature # 46 :  [0, 0, 1, 0, 1, 1, 1, 0] \t RMSE:  train RMSE:  13.042 validation RMSE:  14.415\n",
      "Feature # 47 :  [0, 0, 1, 0, 1, 1, 1, 1] \t RMSE:  train RMSE:  12.679 validation RMSE:  13.607\n",
      "Feature # 48 :  [0, 0, 1, 1, 0, 0, 0, 0] \t RMSE:  train RMSE:  15.634 validation RMSE:  16.151\n",
      "Feature # 49 :  [0, 0, 1, 1, 0, 0, 0, 1] \t RMSE:  train RMSE:  14.778 validation RMSE:  14.733\n",
      "Feature # 50 :  [0, 0, 1, 1, 0, 0, 1, 0] \t RMSE:  train RMSE:  15.01 validation RMSE:  16.186\n",
      "Feature # 51 :  [0, 0, 1, 1, 0, 0, 1, 1] \t RMSE:  train RMSE:  13.566 validation RMSE:  13.905\n",
      "Feature # 52 :  [0, 0, 1, 1, 0, 1, 0, 0] \t RMSE:  train RMSE:  14.618 validation RMSE:  15.738\n",
      "Feature # 53 :  [0, 0, 1, 1, 0, 1, 0, 1] \t RMSE:  train RMSE:  13.973 validation RMSE:  14.177\n",
      "Feature # 54 :  [0, 0, 1, 1, 0, 1, 1, 0] \t RMSE:  train RMSE:  14.519 validation RMSE:  15.822\n",
      "Feature # 55 :  [0, 0, 1, 1, 0, 1, 1, 1] \t RMSE:  train RMSE:  13.465 validation RMSE:  13.79\n",
      "Feature # 56 :  [0, 0, 1, 1, 1, 0, 0, 0] \t RMSE:  train RMSE:  14.035 validation RMSE:  14.41\n",
      "Feature # 57 :  [0, 0, 1, 1, 1, 0, 0, 1] \t RMSE:  train RMSE:  13.071 validation RMSE:  13.408\n",
      "Feature # 58 :  [0, 0, 1, 1, 1, 0, 1, 0] \t RMSE:  train RMSE:  13.241 validation RMSE:  14.351\n",
      "Feature # 59 :  [0, 0, 1, 1, 1, 0, 1, 1] \t RMSE:  train RMSE:  11.528 validation RMSE:  12.516\n",
      "Feature # 60 :  [0, 0, 1, 1, 1, 1, 0, 0] \t RMSE:  train RMSE:  12.901 validation RMSE:  13.972\n",
      "Feature # 61 :  [0, 0, 1, 1, 1, 1, 0, 1] \t RMSE:  train RMSE:  12.16 validation RMSE:  12.727\n",
      "Feature # 62 :  [0, 0, 1, 1, 1, 1, 1, 0] \t RMSE:  train RMSE:  12.738 validation RMSE:  14.028\n",
      "Feature # 63 :  [0, 0, 1, 1, 1, 1, 1, 1] \t RMSE:  train RMSE:  11.442 validation RMSE:  12.362\n",
      "Feature # 64 :  [0, 1, 0, 0, 0, 0, 0, 0] \t RMSE:  train RMSE:  16.561 validation RMSE:  17.306\n",
      "Feature # 65 :  [0, 1, 0, 0, 0, 0, 0, 1] \t RMSE:  train RMSE:  16.515 validation RMSE:  17.013\n",
      "Feature # 66 :  [0, 1, 0, 0, 0, 0, 1, 0] \t RMSE:  train RMSE:  16.369 validation RMSE:  17.537\n",
      "Feature # 67 :  [0, 1, 0, 0, 0, 0, 1, 1] \t RMSE:  train RMSE:  16.254 validation RMSE:  17.056\n",
      "Feature # 68 :  [0, 1, 0, 0, 0, 1, 0, 0] \t RMSE:  train RMSE:  15.157 validation RMSE:  16.705\n",
      "Feature # 69 :  [0, 1, 0, 0, 0, 1, 0, 1] \t RMSE:  train RMSE:  14.919 validation RMSE:  15.862\n",
      "Feature # 70 :  [0, 1, 0, 0, 0, 1, 1, 0] \t RMSE:  train RMSE:  15.138 validation RMSE:  16.783\n",
      "Feature # 71 :  [0, 1, 0, 0, 0, 1, 1, 1] \t RMSE:  train RMSE:  14.858 validation RMSE:  15.876\n",
      "Feature # 72 :  [0, 1, 0, 0, 1, 0, 0, 0] \t RMSE:  train RMSE:  15.48 validation RMSE:  16.008\n",
      "Feature # 73 :  [0, 1, 0, 0, 1, 0, 0, 1] \t RMSE:  train RMSE:  15.468 validation RMSE:  15.911\n",
      "Feature # 74 :  [0, 1, 0, 0, 1, 0, 1, 0] \t RMSE:  train RMSE:  15.279 validation RMSE:  16.259\n",
      "Feature # 75 :  [0, 1, 0, 0, 1, 0, 1, 1] \t RMSE:  train RMSE:  15.225 validation RMSE:  16.044\n",
      "Feature # 76 :  [0, 1, 0, 0, 1, 1, 0, 0] \t RMSE:  train RMSE:  13.4 validation RMSE:  14.964\n",
      "Feature # 77 :  [0, 1, 0, 0, 1, 1, 0, 1] \t RMSE:  train RMSE:  13.227 validation RMSE:  14.45\n",
      "Feature # 78 :  [0, 1, 0, 0, 1, 1, 1, 0] \t RMSE:  train RMSE:  13.394 validation RMSE:  15.012\n",
      "Feature # 79 :  [0, 1, 0, 0, 1, 1, 1, 1] \t RMSE:  train RMSE:  13.199 validation RMSE:  14.492\n",
      "Feature # 80 :  [0, 1, 0, 1, 0, 0, 0, 0] \t RMSE:  train RMSE:  15.617 validation RMSE:  16.419\n",
      "Feature # 81 :  [0, 1, 0, 1, 0, 0, 0, 1] \t RMSE:  train RMSE:  15.067 validation RMSE:  15.257\n",
      "Feature # 82 :  [0, 1, 0, 1, 0, 0, 1, 0] \t RMSE:  train RMSE:  15.238 validation RMSE:  16.601\n",
      "Feature # 83 :  [0, 1, 0, 1, 0, 0, 1, 1] \t RMSE:  train RMSE:  14.12 validation RMSE:  14.608\n",
      "Feature # 84 :  [0, 1, 0, 1, 0, 1, 0, 0] \t RMSE:  train RMSE:  15.09 validation RMSE:  16.502\n",
      "Feature # 85 :  [0, 1, 0, 1, 0, 1, 0, 1] \t RMSE:  train RMSE:  14.653 validation RMSE:  15.203\n",
      "Feature # 86 :  [0, 1, 0, 1, 0, 1, 1, 0] \t RMSE:  train RMSE:  15.004 validation RMSE:  16.57\n",
      "Feature # 87 :  [0, 1, 0, 1, 0, 1, 1, 1] \t RMSE:  train RMSE:  14.113 validation RMSE:  14.618\n",
      "Feature # 88 :  [0, 1, 0, 1, 1, 0, 0, 0] \t RMSE:  train RMSE:  13.782 validation RMSE:  14.309\n",
      "Feature # 89 :  [0, 1, 0, 1, 1, 0, 0, 1] \t RMSE:  train RMSE:  13.171 validation RMSE:  13.581\n",
      "Feature # 90 :  [0, 1, 0, 1, 1, 0, 1, 0] \t RMSE:  train RMSE:  13.291 validation RMSE:  14.479\n",
      "Feature # 91 :  [0, 1, 0, 1, 1, 0, 1, 1] \t RMSE:  train RMSE:  11.974 validation RMSE:  13.061\n",
      "Feature # 92 :  [0, 1, 0, 1, 1, 1, 0, 0] \t RMSE:  train RMSE:  13.143 validation RMSE:  14.411\n",
      "Feature # 93 :  [0, 1, 0, 1, 1, 1, 0, 1] \t RMSE:  train RMSE:  12.658 validation RMSE:  13.461\n",
      "Feature # 94 :  [0, 1, 0, 1, 1, 1, 1, 0] \t RMSE:  train RMSE:  13.019 validation RMSE:  14.467\n",
      "Feature # 95 :  [0, 1, 0, 1, 1, 1, 1, 1] \t RMSE:  train RMSE:  11.966 validation RMSE:  13.047\n",
      "Feature # 96 :  [0, 1, 1, 0, 0, 0, 0, 0] \t RMSE:  train RMSE:  16.532 validation RMSE:  17.173\n",
      "Feature # 97 :  [0, 1, 1, 0, 0, 0, 0, 1] \t RMSE:  train RMSE:  16.48 validation RMSE:  16.86\n",
      "Feature # 98 :  [0, 1, 1, 0, 0, 0, 1, 0] \t RMSE:  train RMSE:  16.317 validation RMSE:  17.376\n",
      "Feature # 99 :  [0, 1, 1, 0, 0, 0, 1, 1] \t RMSE:  train RMSE:  16.183 validation RMSE:  16.846\n",
      "Feature # 100 :  [0, 1, 1, 0, 0, 1, 0, 0] \t RMSE:  train RMSE:  14.635 validation RMSE:  15.866\n",
      "Feature # 101 :  [0, 1, 1, 0, 0, 1, 0, 1] \t RMSE:  train RMSE:  14.241 validation RMSE:  14.691\n",
      "Feature # 102 :  [0, 1, 1, 0, 0, 1, 1, 0] \t RMSE:  train RMSE:  14.612 validation RMSE:  15.948\n",
      "Feature # 103 :  [0, 1, 1, 0, 0, 1, 1, 1] \t RMSE:  train RMSE:  14.152 validation RMSE:  14.671\n",
      "Feature # 104 :  [0, 1, 1, 0, 1, 0, 0, 0] \t RMSE:  train RMSE:  15.48 validation RMSE:  16.006\n",
      "Feature # 105 :  [0, 1, 1, 0, 1, 0, 0, 1] \t RMSE:  train RMSE:  15.467 validation RMSE:  15.902\n",
      "Feature # 106 :  [0, 1, 1, 0, 1, 0, 1, 0] \t RMSE:  train RMSE:  15.275 validation RMSE:  16.228\n",
      "Feature # 107 :  [0, 1, 1, 0, 1, 0, 1, 1] \t RMSE:  train RMSE:  15.217 validation RMSE:  15.99\n",
      "Feature # 108 :  [0, 1, 1, 0, 1, 1, 0, 0] \t RMSE:  train RMSE:  13.016 validation RMSE:  14.313\n",
      "Feature # 109 :  [0, 1, 1, 0, 1, 1, 0, 1] \t RMSE:  train RMSE:  12.723 validation RMSE:  13.56\n",
      "Feature # 110 :  [0, 1, 1, 0, 1, 1, 1, 0] \t RMSE:  train RMSE:  13.008 validation RMSE:  14.369\n",
      "Feature # 111 :  [0, 1, 1, 0, 1, 1, 1, 1] \t RMSE:  train RMSE:  12.676 validation RMSE:  13.588\n",
      "Feature # 112 :  [0, 1, 1, 1, 0, 0, 0, 0] \t RMSE:  train RMSE:  15.459 validation RMSE:  16.039\n",
      "Feature # 113 :  [0, 1, 1, 1, 0, 0, 0, 1] \t RMSE:  train RMSE:  14.762 validation RMSE:  14.736\n",
      "Feature # 114 :  [0, 1, 1, 1, 0, 0, 1, 0] \t RMSE:  train RMSE:  14.979 validation RMSE:  16.136\n",
      "Feature # 115 :  [0, 1, 1, 1, 0, 0, 1, 1] \t RMSE:  train RMSE:  13.396 validation RMSE:  13.703\n",
      "Feature # 116 :  [0, 1, 1, 1, 0, 1, 0, 0] \t RMSE:  train RMSE:  14.59 validation RMSE:  15.732\n",
      "Feature # 117 :  [0, 1, 1, 1, 0, 1, 0, 1] \t RMSE:  train RMSE:  13.967 validation RMSE:  14.14\n",
      "Feature # 118 :  [0, 1, 1, 1, 0, 1, 1, 0] \t RMSE:  train RMSE:  14.509 validation RMSE:  15.811\n",
      "Feature # 119 :  [0, 1, 1, 1, 0, 1, 1, 1] \t RMSE:  train RMSE:  13.307 validation RMSE:  13.543\n",
      "Feature # 120 :  [0, 1, 1, 1, 1, 0, 0, 0] \t RMSE:  train RMSE:  13.718 validation RMSE:  14.108\n",
      "Feature # 121 :  [0, 1, 1, 1, 1, 0, 0, 1] \t RMSE:  train RMSE:  12.999 validation RMSE:  13.301\n",
      "Feature # 122 :  [0, 1, 1, 1, 1, 0, 1, 0] \t RMSE:  train RMSE:  13.15 validation RMSE:  14.194\n",
      "Feature # 123 :  [0, 1, 1, 1, 1, 0, 1, 1] \t RMSE:  train RMSE:  11.426 validation RMSE:  12.515\n",
      "Feature # 124 :  [0, 1, 1, 1, 1, 1, 0, 0] \t RMSE:  train RMSE:  12.807 validation RMSE:  13.879\n",
      "Feature # 125 :  [0, 1, 1, 1, 1, 1, 0, 1] \t RMSE:  train RMSE:  12.157 validation RMSE:  12.73\n",
      "Feature # 126 :  [0, 1, 1, 1, 1, 1, 1, 0] \t RMSE:  train RMSE:  12.688 validation RMSE:  13.948\n",
      "Feature # 127 :  [0, 1, 1, 1, 1, 1, 1, 1] \t RMSE:  train RMSE:  11.348 validation RMSE:  12.33\n",
      "Feature # 128 :  [1, 0, 0, 0, 0, 0, 0, 0] \t RMSE:  train RMSE:  14.744 validation RMSE:  14.738\n",
      "Feature # 129 :  [1, 0, 0, 0, 0, 0, 0, 1] \t RMSE:  train RMSE:  14.739 validation RMSE:  14.681\n",
      "Feature # 130 :  [1, 0, 0, 0, 0, 0, 1, 0] \t RMSE:  train RMSE:  14.589 validation RMSE:  14.814\n",
      "Feature # 131 :  [1, 0, 0, 0, 0, 0, 1, 1] \t RMSE:  train RMSE:  14.569 validation RMSE:  14.683\n",
      "Feature # 132 :  [1, 0, 0, 0, 0, 1, 0, 0] \t RMSE:  train RMSE:  13.608 validation RMSE:  13.669\n",
      "Feature # 133 :  [1, 0, 0, 0, 0, 1, 0, 1] \t RMSE:  train RMSE:  13.505 validation RMSE:  13.285\n",
      "Feature # 134 :  [1, 0, 0, 0, 0, 1, 1, 0] \t RMSE:  train RMSE:  13.59 validation RMSE:  13.738\n",
      "Feature # 135 :  [1, 0, 0, 0, 0, 1, 1, 1] \t RMSE:  train RMSE:  13.473 validation RMSE:  13.332\n",
      "Feature # 136 :  [1, 0, 0, 0, 1, 0, 0, 0] \t RMSE:  train RMSE:  13.74 validation RMSE:  13.869\n",
      "Feature # 137 :  [1, 0, 0, 0, 1, 0, 0, 1] \t RMSE:  train RMSE:  13.74 validation RMSE:  13.876\n",
      "Feature # 138 :  [1, 0, 0, 0, 1, 0, 1, 0] \t RMSE:  train RMSE:  13.564 validation RMSE:  13.931\n",
      "Feature # 139 :  [1, 0, 0, 0, 1, 0, 1, 1] \t RMSE:  train RMSE:  13.56 validation RMSE:  13.896\n",
      "Feature # 140 :  [1, 0, 0, 0, 1, 1, 0, 0] \t RMSE:  train RMSE:  11.982 validation RMSE:  12.292\n",
      "Feature # 141 :  [1, 0, 0, 0, 1, 1, 0, 1] \t RMSE:  train RMSE:  11.904 validation RMSE:  12.068\n",
      "Feature # 142 :  [1, 0, 0, 0, 1, 1, 1, 0] \t RMSE:  train RMSE:  11.972 validation RMSE:  12.343\n",
      "Feature # 143 :  [1, 0, 0, 0, 1, 1, 1, 1] \t RMSE:  train RMSE:  11.885 validation RMSE:  12.113\n",
      "Feature # 144 :  [1, 0, 0, 1, 0, 0, 0, 0] \t RMSE:  train RMSE:  14.043 validation RMSE:  13.853\n",
      "Feature # 145 :  [1, 0, 0, 1, 0, 0, 0, 1] \t RMSE:  train RMSE:  13.743 validation RMSE:  13.229\n",
      "Feature # 146 :  [1, 0, 0, 1, 0, 0, 1, 0] \t RMSE:  train RMSE:  13.709 validation RMSE:  13.846\n",
      "Feature # 147 :  [1, 0, 0, 1, 0, 0, 1, 1] \t RMSE:  train RMSE:  13.101 validation RMSE:  12.757\n",
      "Feature # 148 :  [1, 0, 0, 1, 0, 1, 0, 0] \t RMSE:  train RMSE:  13.57 validation RMSE:  13.557\n",
      "Feature # 149 :  [1, 0, 0, 1, 0, 1, 0, 1] \t RMSE:  train RMSE:  13.356 validation RMSE:  12.905\n",
      "Feature # 150 :  [1, 0, 0, 1, 0, 1, 1, 0] \t RMSE:  train RMSE:  13.498 validation RMSE:  13.626\n",
      "Feature # 151 :  [1, 0, 0, 1, 0, 1, 1, 1] \t RMSE:  train RMSE:  13.065 validation RMSE:  12.7\n",
      "Feature # 152 :  [1, 0, 0, 1, 1, 0, 0, 0] \t RMSE:  train RMSE:  12.412 validation RMSE:  12.314\n",
      "Feature # 153 :  [1, 0, 0, 1, 1, 0, 0, 1] \t RMSE:  train RMSE:  12.019 validation RMSE:  11.923\n",
      "Feature # 154 :  [1, 0, 0, 1, 1, 0, 1, 0] \t RMSE:  train RMSE:  11.927 validation RMSE:  12.213\n",
      "Feature # 155 :  [1, 0, 0, 1, 1, 0, 1, 1] \t RMSE:  train RMSE:  11.085 validation RMSE:  11.385\n",
      "Feature # 156 :  [1, 0, 0, 1, 1, 1, 0, 0] \t RMSE:  train RMSE:  11.803 validation RMSE:  11.95\n",
      "Feature # 157 :  [1, 0, 0, 1, 1, 1, 0, 1] \t RMSE:  train RMSE:  11.517 validation RMSE:  11.463\n",
      "Feature # 158 :  [1, 0, 0, 1, 1, 1, 1, 0] \t RMSE:  train RMSE:  11.678 validation RMSE:  11.994\n",
      "Feature # 159 :  [1, 0, 0, 1, 1, 1, 1, 1] \t RMSE:  train RMSE:  11.052 validation RMSE:  11.294\n",
      "Feature # 160 :  [1, 0, 1, 0, 0, 0, 0, 0] \t RMSE:  train RMSE:  14.69 validation RMSE:  14.667\n",
      "Feature # 161 :  [1, 0, 1, 0, 0, 0, 0, 1] \t RMSE:  train RMSE:  14.686 validation RMSE:  14.617\n",
      "Feature # 162 :  [1, 0, 1, 0, 0, 0, 1, 0] \t RMSE:  train RMSE:  14.545 validation RMSE:  14.746\n",
      "Feature # 163 :  [1, 0, 1, 0, 0, 0, 1, 1] \t RMSE:  train RMSE:  14.528 validation RMSE:  14.626\n",
      "Feature # 164 :  [1, 0, 1, 0, 0, 1, 0, 0] \t RMSE:  train RMSE:  13.533 validation RMSE:  13.662\n",
      "Feature # 165 :  [1, 0, 1, 0, 0, 1, 0, 1] \t RMSE:  train RMSE:  13.397 validation RMSE:  13.216\n",
      "Feature # 166 :  [1, 0, 1, 0, 0, 1, 1, 0] \t RMSE:  train RMSE:  13.518 validation RMSE:  13.724\n",
      "Feature # 167 :  [1, 0, 1, 0, 0, 1, 1, 1] \t RMSE:  train RMSE:  13.369 validation RMSE:  13.26\n",
      "Feature # 168 :  [1, 0, 1, 0, 1, 0, 0, 0] \t RMSE:  train RMSE:  13.597 validation RMSE:  13.746\n",
      "Feature # 169 :  [1, 0, 1, 0, 1, 0, 0, 1] \t RMSE:  train RMSE:  13.596 validation RMSE:  13.76\n",
      "Feature # 170 :  [1, 0, 1, 0, 1, 0, 1, 0] \t RMSE:  train RMSE:  13.437 validation RMSE:  13.808\n",
      "Feature # 171 :  [1, 0, 1, 0, 1, 0, 1, 1] \t RMSE:  train RMSE:  13.436 validation RMSE:  13.786\n",
      "Feature # 172 :  [1, 0, 1, 0, 1, 1, 0, 0] \t RMSE:  train RMSE:  11.936 validation RMSE:  12.278\n",
      "Feature # 173 :  [1, 0, 1, 0, 1, 1, 0, 1] \t RMSE:  train RMSE:  11.835 validation RMSE:  12.016\n",
      "Feature # 174 :  [1, 0, 1, 0, 1, 1, 1, 0] \t RMSE:  train RMSE:  11.928 validation RMSE:  12.324\n",
      "Feature # 175 :  [1, 0, 1, 0, 1, 1, 1, 1] \t RMSE:  train RMSE:  11.818 validation RMSE:  12.059\n"
     ]
    },
    {
     "name": "stdout",
     "output_type": "stream",
     "text": [
      "Feature # 176 :  [1, 0, 1, 1, 0, 0, 0, 0] \t RMSE:  train RMSE:  14.043 validation RMSE:  13.854\n",
      "Feature # 177 :  [1, 0, 1, 1, 0, 0, 0, 1] \t RMSE:  train RMSE:  13.727 validation RMSE:  13.23\n",
      "Feature # 178 :  [1, 0, 1, 1, 0, 0, 1, 0] \t RMSE:  train RMSE:  13.702 validation RMSE:  13.856\n",
      "Feature # 179 :  [1, 0, 1, 1, 0, 0, 1, 1] \t RMSE:  train RMSE:  13.009 validation RMSE:  12.747\n",
      "Feature # 180 :  [1, 0, 1, 1, 0, 1, 0, 0] \t RMSE:  train RMSE:  13.494 validation RMSE:  13.553\n",
      "Feature # 181 :  [1, 0, 1, 1, 0, 1, 0, 1] \t RMSE:  train RMSE:  13.224 validation RMSE:  12.827\n",
      "Feature # 182 :  [1, 0, 1, 1, 0, 1, 1, 0] \t RMSE:  train RMSE:  13.432 validation RMSE:  13.62\n",
      "Feature # 183 :  [1, 0, 1, 1, 0, 1, 1, 1] \t RMSE:  train RMSE:  12.927 validation RMSE:  12.642\n",
      "Feature # 184 :  [1, 0, 1, 1, 1, 0, 0, 0] \t RMSE:  train RMSE:  12.406 validation RMSE:  12.308\n",
      "Feature # 185 :  [1, 0, 1, 1, 1, 0, 0, 1] \t RMSE:  train RMSE:  12.017 validation RMSE:  11.928\n",
      "Feature # 186 :  [1, 0, 1, 1, 1, 0, 1, 0] \t RMSE:  train RMSE:  11.927 validation RMSE:  12.213\n",
      "Feature # 187 :  [1, 0, 1, 1, 1, 0, 1, 1] \t RMSE:  train RMSE:  11.02 validation RMSE:  11.404\n",
      "Feature # 188 :  [1, 0, 1, 1, 1, 1, 0, 0] \t RMSE:  train RMSE:  11.759 validation RMSE:  11.941\n",
      "Feature # 189 :  [1, 0, 1, 1, 1, 1, 0, 1] \t RMSE:  train RMSE:  11.421 validation RMSE:  11.412\n",
      "Feature # 190 :  [1, 0, 1, 1, 1, 1, 1, 0] \t RMSE:  train RMSE:  11.643 validation RMSE:  11.988\n",
      "Feature # 191 :  [1, 0, 1, 1, 1, 1, 1, 1] \t RMSE:  train RMSE:  10.95 validation RMSE:  11.263\n",
      "Feature # 192 :  [1, 1, 0, 0, 0, 0, 0, 0] \t RMSE:  train RMSE:  13.924 validation RMSE:  13.817\n",
      "Feature # 193 :  [1, 1, 0, 0, 0, 0, 0, 1] \t RMSE:  train RMSE:  13.848 validation RMSE:  13.959\n",
      "Feature # 194 :  [1, 1, 0, 0, 0, 0, 1, 0] \t RMSE:  train RMSE:  13.916 validation RMSE:  13.863\n",
      "Feature # 195 :  [1, 1, 0, 0, 0, 0, 1, 1] \t RMSE:  train RMSE:  13.848 validation RMSE:  13.958\n",
      "Feature # 196 :  [1, 1, 0, 0, 0, 1, 0, 0] \t RMSE:  train RMSE:  12.884 validation RMSE:  12.875\n",
      "Feature # 197 :  [1, 1, 0, 0, 0, 1, 0, 1] \t RMSE:  train RMSE:  12.884 validation RMSE:  12.881\n",
      "Feature # 198 :  [1, 1, 0, 0, 0, 1, 1, 0] \t RMSE:  train RMSE:  12.858 validation RMSE:  12.749\n",
      "Feature # 199 :  [1, 1, 0, 0, 0, 1, 1, 1] \t RMSE:  train RMSE:  12.855 validation RMSE:  12.786\n",
      "Feature # 200 :  [1, 1, 0, 0, 1, 0, 0, 0] \t RMSE:  train RMSE:  12.824 validation RMSE:  12.783\n",
      "Feature # 201 :  [1, 1, 0, 0, 1, 0, 0, 1] \t RMSE:  train RMSE:  12.67 validation RMSE:  12.805\n",
      "Feature # 202 :  [1, 1, 0, 0, 1, 0, 1, 0] \t RMSE:  train RMSE:  12.814 validation RMSE:  12.833\n",
      "Feature # 203 :  [1, 1, 0, 0, 1, 0, 1, 1] \t RMSE:  train RMSE:  12.669 validation RMSE:  12.783\n",
      "Feature # 204 :  [1, 1, 0, 0, 1, 1, 0, 0] \t RMSE:  train RMSE:  11.15 validation RMSE:  11.32\n",
      "Feature # 205 :  [1, 1, 0, 0, 1, 1, 0, 1] \t RMSE:  train RMSE:  11.144 validation RMSE:  11.352\n",
      "Feature # 206 :  [1, 1, 0, 0, 1, 1, 1, 0] \t RMSE:  train RMSE:  11.1 validation RMSE:  11.13\n",
      "Feature # 207 :  [1, 1, 0, 0, 1, 1, 1, 1] \t RMSE:  train RMSE:  11.077 validation RMSE:  11.144\n",
      "Feature # 208 :  [1, 1, 0, 1, 0, 0, 0, 0] \t RMSE:  train RMSE:  13.05 validation RMSE:  12.735\n",
      "Feature # 209 :  [1, 1, 0, 1, 0, 0, 0, 1] \t RMSE:  train RMSE:  13.008 validation RMSE:  12.559\n",
      "Feature # 210 :  [1, 1, 0, 1, 0, 0, 1, 0] \t RMSE:  train RMSE:  12.978 validation RMSE:  12.815\n",
      "Feature # 211 :  [1, 1, 0, 1, 0, 0, 1, 1] \t RMSE:  train RMSE:  12.823 validation RMSE:  12.459\n",
      "Feature # 212 :  [1, 1, 0, 1, 0, 1, 0, 0] \t RMSE:  train RMSE:  12.757 validation RMSE:  12.607\n",
      "Feature # 213 :  [1, 1, 0, 1, 0, 1, 0, 1] \t RMSE:  train RMSE:  12.731 validation RMSE:  12.424\n",
      "Feature # 214 :  [1, 1, 0, 1, 0, 1, 1, 0] \t RMSE:  train RMSE:  12.757 validation RMSE:  12.61\n",
      "Feature # 215 :  [1, 1, 0, 1, 0, 1, 1, 1] \t RMSE:  train RMSE:  12.712 validation RMSE:  12.395\n",
      "Feature # 216 :  [1, 1, 0, 1, 1, 0, 0, 0] \t RMSE:  train RMSE:  11.17 validation RMSE:  10.824\n",
      "Feature # 217 :  [1, 1, 0, 1, 1, 0, 0, 1] \t RMSE:  train RMSE:  11.106 validation RMSE:  10.772\n",
      "Feature # 218 :  [1, 1, 0, 1, 1, 0, 1, 0] \t RMSE:  train RMSE:  11.038 validation RMSE:  10.901\n",
      "Feature # 219 :  [1, 1, 0, 1, 1, 0, 1, 1] \t RMSE:  train RMSE:  10.782 validation RMSE:  10.792\n",
      "Feature # 220 :  [1, 1, 0, 1, 1, 1, 0, 0] \t RMSE:  train RMSE:  10.776 validation RMSE:  10.669\n",
      "Feature # 221 :  [1, 1, 0, 1, 1, 1, 0, 1] \t RMSE:  train RMSE:  10.735 validation RMSE:  10.565\n",
      "Feature # 222 :  [1, 1, 0, 1, 1, 1, 1, 0] \t RMSE:  train RMSE:  10.772 validation RMSE:  10.696\n",
      "Feature # 223 :  [1, 1, 0, 1, 1, 1, 1, 1] \t RMSE:  train RMSE:  10.672 validation RMSE:  10.612\n",
      "Feature # 224 :  [1, 1, 1, 0, 0, 0, 0, 0] \t RMSE:  train RMSE:  13.259 validation RMSE:  13.161\n",
      "Feature # 225 :  [1, 1, 1, 0, 0, 0, 0, 1] \t RMSE:  train RMSE:  12.986 validation RMSE:  13.378\n",
      "Feature # 226 :  [1, 1, 1, 0, 0, 0, 1, 0] \t RMSE:  train RMSE:  13.237 validation RMSE:  13.068\n",
      "Feature # 227 :  [1, 1, 1, 0, 0, 0, 1, 1] \t RMSE:  train RMSE:  12.792 validation RMSE:  13.103\n",
      "Feature # 228 :  [1, 1, 1, 0, 0, 1, 0, 0] \t RMSE:  train RMSE:  12.793 validation RMSE:  12.726\n",
      "Feature # 229 :  [1, 1, 1, 0, 0, 1, 0, 1] \t RMSE:  train RMSE:  12.755 validation RMSE:  12.89\n",
      "Feature # 230 :  [1, 1, 1, 0, 0, 1, 1, 0] \t RMSE:  train RMSE:  12.744 validation RMSE:  12.541\n",
      "Feature # 231 :  [1, 1, 1, 0, 0, 1, 1, 1] \t RMSE:  train RMSE:  12.627 validation RMSE:  12.704\n",
      "Feature # 232 :  [1, 1, 1, 0, 1, 0, 0, 0] \t RMSE:  train RMSE:  11.726 validation RMSE:  11.833\n",
      "Feature # 233 :  [1, 1, 1, 0, 1, 0, 0, 1] \t RMSE:  train RMSE:  11.152 validation RMSE:  11.712\n",
      "Feature # 234 :  [1, 1, 1, 0, 1, 0, 1, 0] \t RMSE:  train RMSE:  11.681 validation RMSE:  11.706\n",
      "Feature # 235 :  [1, 1, 1, 0, 1, 0, 1, 1] \t RMSE:  train RMSE:  10.72 validation RMSE:  11.041\n",
      "Feature # 236 :  [1, 1, 1, 0, 1, 1, 0, 0] \t RMSE:  train RMSE:  10.966 validation RMSE:  11.093\n",
      "Feature # 237 :  [1, 1, 1, 0, 1, 1, 0, 1] \t RMSE:  train RMSE:  10.833 validation RMSE:  11.187\n",
      "Feature # 238 :  [1, 1, 1, 0, 1, 1, 1, 0] \t RMSE:  train RMSE:  10.867 validation RMSE:  10.817\n",
      "Feature # 239 :  [1, 1, 1, 0, 1, 1, 1, 1] \t RMSE:  train RMSE:  10.51 validation RMSE:  10.646\n",
      "Feature # 240 :  [1, 1, 1, 1, 0, 0, 0, 0] \t RMSE:  train RMSE:  12.712 validation RMSE:  12.379\n",
      "Feature # 241 :  [1, 1, 1, 1, 0, 0, 0, 1] \t RMSE:  train RMSE:  12.703 validation RMSE:  12.467\n",
      "Feature # 242 :  [1, 1, 1, 1, 0, 0, 1, 0] \t RMSE:  train RMSE:  12.708 validation RMSE:  12.407\n",
      "Feature # 243 :  [1, 1, 1, 1, 0, 0, 1, 1] \t RMSE:  train RMSE:  12.703 validation RMSE:  12.484\n",
      "Feature # 244 :  [1, 1, 1, 1, 0, 1, 0, 0] \t RMSE:  train RMSE:  12.632 validation RMSE:  12.39\n",
      "Feature # 245 :  [1, 1, 1, 1, 0, 1, 0, 1] \t RMSE:  train RMSE:  12.631 validation RMSE:  12.419\n",
      "Feature # 246 :  [1, 1, 1, 1, 0, 1, 1, 0] \t RMSE:  train RMSE:  12.63 validation RMSE:  12.367\n",
      "Feature # 247 :  [1, 1, 1, 1, 0, 1, 1, 1] \t RMSE:  train RMSE:  12.617 validation RMSE:  12.522\n",
      "Feature # 248 :  [1, 1, 1, 1, 1, 0, 0, 0] \t RMSE:  train RMSE:  10.561 validation RMSE:  10.266\n",
      "Feature # 249 :  [1, 1, 1, 1, 1, 0, 0, 1] \t RMSE:  train RMSE:  10.539 validation RMSE:  10.302\n",
      "Feature # 250 :  [1, 1, 1, 1, 1, 0, 1, 0] \t RMSE:  train RMSE:  10.552 validation RMSE:  10.298\n",
      "Feature # 251 :  [1, 1, 1, 1, 1, 0, 1, 1] \t RMSE:  train RMSE:  10.536 validation RMSE:  10.3\n",
      "Feature # 252 :  [1, 1, 1, 1, 1, 1, 0, 0] \t RMSE:  train RMSE:  10.49 validation RMSE:  10.282\n",
      "Feature # 253 :  [1, 1, 1, 1, 1, 1, 0, 1] \t RMSE:  train RMSE:  10.481 validation RMSE:  10.309\n",
      "Feature # 254 :  [1, 1, 1, 1, 1, 1, 1, 0] \t RMSE:  train RMSE:  10.49 validation RMSE:  10.279\n",
      "Feature # 255 :  [1, 1, 1, 1, 1, 1, 1, 1] \t RMSE:  train RMSE:  10.46 validation RMSE:  10.318\n"
     ]
    }
   ],
   "source": [
    "train_model(df_train, df_val)"
   ]
  },
  {
   "cell_type": "markdown",
   "id": "36012a63",
   "metadata": {},
   "source": [
    "Lowest train RMSE achieved with all 8 features: 10.46 %\n",
    "\n",
    "Lowest validation RMSE achieved with first 5 features: 10.248 %"
   ]
  },
  {
   "cell_type": "code",
   "execution_count": 351,
   "id": "4a5e91bb",
   "metadata": {},
   "outputs": [
    {
     "data": {
      "image/png": "[encoded data removed]",
      "text/plain": [
       "<Figure size 600x400 with 1 Axes>"
      ]
     },
     "metadata": {},
     "output_type": "display_data"
    }
   ],
   "source": [
    "#Lowest train RMSE \n",
    "\n",
    "train_feats = get_features([1,1,1,1,1,1,1,1])\n",
    "\n",
    "X_train = prepare_X(df_train, train_feats)\n",
    "w_0, w = train_linear_regression(X_train, y_train)\n",
    "y_pred = w_0 + X_train.dot(w)\n",
    "\n",
    "plt.figure(figsize=(6, 4))\n",
    "\n",
    "sns.histplot(y_train, label='target', color='#220000', alpha=0.6, bins=40)\n",
    "sns.histplot(y_pred, label='prediction', color='#0000aa', alpha=0.8, bins=40)\n",
    "\n",
    "plt.legend()\n",
    "\n",
    "plt.ylabel('Frequency')\n",
    "plt.xlabel('csMPa')\n",
    "plt.title('Train RMSE: 10.46% - Predictions vs actual distribution')\n",
    "\n",
    "plt.show()"
   ]
  },
  {
   "cell_type": "code",
   "execution_count": 352,
   "id": "c4328b21",
   "metadata": {},
   "outputs": [
    {
     "data": {
      "image/png": "[encoded data removed]",
      "text/plain": [
       "<Figure size 600x400 with 1 Axes>"
      ]
     },
     "metadata": {},
     "output_type": "display_data"
    }
   ],
   "source": [
    "#Lowest validation RMSE \n",
    "\n",
    "train_feats = get_features([1,1,1,1,1,0,0,0])\n",
    "\n",
    "X_train = prepare_X(df_train, train_feats)\n",
    "w_0, w = train_linear_regression(X_train, y_train)\n",
    "y_pred = w_0 + X_train.dot(w)\n",
    "\n",
    "plt.figure(figsize=(6, 4))\n",
    "\n",
    "sns.histplot(y_train, label='target', color='#220000', alpha=0.6, bins=40)\n",
    "sns.histplot(y_pred, label='prediction', color='#0000aa', alpha=0.8, bins=40)\n",
    "\n",
    "plt.legend()\n",
    "\n",
    "plt.ylabel('Frequency')\n",
    "plt.xlabel('csMPa')\n",
    "plt.title('Validation RMSE 10.248% - Predictions vs actual distribution')\n",
    "\n",
    "plt.show()"
   ]
  },
  {
   "cell_type": "markdown",
   "id": "b62720a8",
   "metadata": {},
   "source": [
    "# Additional features exercise\n",
    "Goal: Create additional features as mathematical functions of existing ones\n",
    "\n",
    "1. Create features (rations, squares, ... )\n",
    "2. Include in your data frame\n",
    "3. Perform linear regression on the entire set of descriptors\n",
    "4. Compute RMSE\n",
    "\n"
   ]
  },
  {
   "cell_type": "code",
   "execution_count": 371,
   "id": "d40f964b",
   "metadata": {},
   "outputs": [],
   "source": [
    "#here, i will compare the accuracy of the original features to features scaled to range\n",
    "df_train = df_shuffled.iloc[:n_train].copy() \n",
    "df_val = df_shuffled.iloc[n_train:n_train+n_val].copy()\n",
    "df_test = df_shuffled.iloc[n_train+n_val:].copy()\n",
    "\n",
    "norm_df_train = df_train\n",
    "norm_df_val = df_val\n",
    "norm_df_test = df_test\n",
    "\n",
    "y_train_norm = df_train.csMPa.values\n",
    "y_val_norm = df_val.csMPa.values\n",
    "y_test_norm = df_test.csMPa.values\n",
    "\n",
    "del norm_df_train['csMPa']\n",
    "del norm_df_val['csMPa']\n",
    "\n",
    "df_train['norm_cement'] = (norm_df_train['cement'] - norm_df_train['cement'].min()) / (norm_df_train['cement'].max() - norm_df_train['cement'].min())\n",
    "df_train['norm_slag'] = (norm_df_train['slag'] - norm_df_train['slag'].min()) / (norm_df_train['slag'].max() - norm_df_train['slag'].min())\n",
    "df_train['norm_flyash'] = (norm_df_train['flyash'] - norm_df_train['flyash'].min()) / (norm_df_train['flyash'].max() - norm_df_train['flyash'].min())\n",
    "df_train['norm_water'] = (norm_df_train['water'] - norm_df_train['water'].min()) / (norm_df_train['water'].max() - norm_df_train['water'].min())\n",
    "df_train['norm_superplasticizer'] = (norm_df_train['superplasticizer'] - norm_df_train['superplasticizer'].min()) / (norm_df_train['superplasticizer'].max() - norm_df_train['superplasticizer'].min())\n",
    "df_train['norm_coarseaggregate'] = (norm_df_train['coarseaggregate'] - norm_df_train['coarseaggregate'].min()) / (norm_df_train['coarseaggregate'].max() - norm_df_train['coarseaggregate'].min())\n",
    "df_train['norm_fineaggregate'] = (norm_df_train['fineaggregate'] - norm_df_train['fineaggregate'].min()) / (norm_df_train['fineaggregate'].max() - norm_df_train['fineaggregate'].min())\n",
    "df_train['norm_age'] = (norm_df_train['age'] - norm_df_train['age'].min()) / (norm_df_train['age'].max() - norm_df_train['age'].min())\n",
    "\n",
    "df_val['norm_cement'] = (norm_df_val['cement'] - norm_df_val['cement'].min()) / (norm_df_val['cement'].max() - norm_df_val['cement'].min())\n",
    "df_val['norm_slag'] = (norm_df_val['slag'] - norm_df_val['slag'].min()) / (norm_df_val['slag'].max() - norm_df_val['slag'].min())\n",
    "df_val['norm_flyash'] = (norm_df_val['flyash'] - norm_df_val['flyash'].min()) / (norm_df_val['flyash'].max() - norm_df_val['flyash'].min())\n",
    "df_val['norm_water'] = (norm_df_val['water'] - norm_df_val['water'].min()) / (norm_df_val['water'].max() - norm_df_val['water'].min())\n",
    "df_val['norm_superplasticizer'] = (norm_df_val['superplasticizer'] - norm_df_val['superplasticizer'].min()) / (norm_df_val['superplasticizer'].max() - norm_df_val['superplasticizer'].min())\n",
    "df_val['norm_coarseaggregate'] = (norm_df_val['coarseaggregate'] - norm_df_val['coarseaggregate'].min()) / (norm_df_val['coarseaggregate'].max() - norm_df_val['coarseaggregate'].min())\n",
    "df_val['norm_fineaggregate'] = (norm_df_val['fineaggregate'] - norm_df_val['fineaggregate'].min()) / (norm_df_val['fineaggregate'].max() - norm_df_val['fineaggregate'].min())\n",
    "df_val['norm_age'] = (norm_df_val['age'] - norm_df_val['age'].min()) / (norm_df_val['age'].max() - norm_df_val['age'].min())\n",
    "\n"
   ]
  },
  {
   "cell_type": "code",
   "execution_count": 372,
   "id": "03680389",
   "metadata": {},
   "outputs": [],
   "source": [
    "#norm\n",
    "def train_norm_model(df_train, df_val):\n",
    "    \n",
    "    for i in range(256):\n",
    "        \n",
    "        print(\"Feature #\", i, \": \", feature_comb_indices[i], \"\\t RMSE: \", end = \" \")\n",
    "\n",
    "        train_feats = get_features(feature_comb_indices[i])\n",
    "    \n",
    "        X_train = prepare_X(df_train, train_feats)\n",
    "        w_0, w = train_linear_regression(X_train, y_train_norm)\n",
    "        y_pred = w_0 + X_train.dot(w)\n",
    "        \n",
    "        print(\"train RMSE: \", round(rmse(y_train_norm, y_pred),3), end = \" \")\n",
    "\n",
    "\n",
    "        X_val = prepare_X(df_val, train_feats )\n",
    "        y_pred = w_0 + X_val.dot(w)\n",
    "        print(\"validation RMSE: \", round(rmse(y_val_norm, y_pred),3))\n",
    "            \n",
    "        "
   ]
  },
  {
   "cell_type": "code",
   "execution_count": 373,
   "id": "fe8b7545",
   "metadata": {},
   "outputs": [
    {
     "name": "stdout",
     "output_type": "stream",
     "text": [
      "Feature # 0 :  [0, 0, 0, 0, 0, 0, 0, 0] \t RMSE:  train RMSE:  16.796 validation RMSE:  17.543\n",
      "Feature # 1 :  [0, 0, 0, 0, 0, 0, 0, 1] \t RMSE:  train RMSE:  16.676 validation RMSE:  17.054\n",
      "Feature # 2 :  [0, 0, 0, 0, 0, 0, 1, 0] \t RMSE:  train RMSE:  16.481 validation RMSE:  17.741\n",
      "Feature # 3 :  [0, 0, 0, 0, 0, 0, 1, 1] \t RMSE:  train RMSE:  16.291 validation RMSE:  17.066\n",
      "Feature # 4 :  [0, 0, 0, 0, 0, 1, 0, 0] \t RMSE:  train RMSE:  15.36 validation RMSE:  16.835\n",
      "Feature # 5 :  [0, 0, 0, 0, 0, 1, 0, 1] \t RMSE:  train RMSE:  14.999 validation RMSE:  15.793\n",
      "Feature # 6 :  [0, 0, 0, 0, 0, 1, 1, 0] \t RMSE:  train RMSE:  15.29 validation RMSE:  16.958\n",
      "Feature # 7 :  [0, 0, 0, 0, 0, 1, 1, 1] \t RMSE:  train RMSE:  14.891 validation RMSE:  15.834\n",
      "Feature # 8 :  [0, 0, 0, 0, 1, 0, 0, 0] \t RMSE:  train RMSE:  15.762 validation RMSE:  16.359\n",
      "Feature # 9 :  [0, 0, 0, 0, 1, 0, 0, 1] \t RMSE:  train RMSE:  15.694 validation RMSE:  16.094\n",
      "Feature # 10 :  [0, 0, 0, 0, 1, 0, 1, 0] \t RMSE:  train RMSE:  15.421 validation RMSE:  16.552\n",
      "Feature # 11 :  [0, 0, 0, 0, 1, 0, 1, 1] \t RMSE:  train RMSE:  15.297 validation RMSE:  16.144\n",
      "Feature # 12 :  [0, 0, 0, 0, 1, 1, 0, 0] \t RMSE:  train RMSE:  13.657 validation RMSE:  15.187\n",
      "Feature # 13 :  [0, 0, 0, 0, 1, 1, 0, 1] \t RMSE:  train RMSE:  13.356 validation RMSE:  14.466\n",
      "Feature # 14 :  [0, 0, 0, 0, 1, 1, 1, 0] \t RMSE:  train RMSE:  13.608 validation RMSE:  15.296\n",
      "Feature # 15 :  [0, 0, 0, 0, 1, 1, 1, 1] \t RMSE:  train RMSE:  13.276 validation RMSE:  14.52\n",
      "Feature # 16 :  [0, 0, 0, 1, 0, 0, 0, 0] \t RMSE:  train RMSE:  15.962 validation RMSE:  16.726\n",
      "Feature # 17 :  [0, 0, 0, 1, 0, 0, 0, 1] \t RMSE:  train RMSE:  15.201 validation RMSE:  15.306\n",
      "Feature # 18 :  [0, 0, 0, 1, 0, 0, 1, 0] \t RMSE:  train RMSE:  15.393 validation RMSE:  16.822\n",
      "Feature # 19 :  [0, 0, 0, 1, 0, 0, 1, 1] \t RMSE:  train RMSE:  14.121 validation RMSE:  14.617\n",
      "Feature # 20 :  [0, 0, 0, 1, 0, 1, 0, 0] \t RMSE:  train RMSE:  15.327 validation RMSE:  16.708\n",
      "Feature # 21 :  [0, 0, 0, 1, 0, 1, 0, 1] \t RMSE:  train RMSE:  14.744 validation RMSE:  15.177\n",
      "Feature # 22 :  [0, 0, 0, 1, 0, 1, 1, 0] \t RMSE:  train RMSE:  15.164 validation RMSE:  16.765\n",
      "Feature # 23 :  [0, 0, 0, 1, 0, 1, 1, 1] \t RMSE:  train RMSE:  14.113 validation RMSE:  14.624\n",
      "Feature # 24 :  [0, 0, 0, 1, 1, 0, 0, 0] \t RMSE:  train RMSE:  14.264 validation RMSE:  14.847\n",
      "Feature # 25 :  [0, 0, 0, 1, 1, 0, 0, 1] \t RMSE:  train RMSE:  13.385 validation RMSE:  13.83\n",
      "Feature # 26 :  [0, 0, 0, 1, 1, 0, 1, 0] \t RMSE:  train RMSE:  13.518 validation RMSE:  14.851\n",
      "Feature # 27 :  [0, 0, 0, 1, 1, 0, 1, 1] \t RMSE:  train RMSE:  11.974 validation RMSE:  13.064\n",
      "Feature # 28 :  [0, 0, 0, 1, 1, 1, 0, 0] \t RMSE:  train RMSE:  13.491 validation RMSE:  14.796\n",
      "Feature # 29 :  [0, 0, 0, 1, 1, 1, 0, 1] \t RMSE:  train RMSE:  12.816 validation RMSE:  13.576\n",
      "Feature # 30 :  [0, 0, 0, 1, 1, 1, 1, 0] \t RMSE:  train RMSE:  13.256 validation RMSE:  14.805\n",
      "Feature # 31 :  [0, 0, 0, 1, 1, 1, 1, 1] \t RMSE:  train RMSE:  11.967 validation RMSE:  13.052\n",
      "Feature # 32 :  [0, 0, 1, 0, 0, 0, 0, 0] \t RMSE:  train RMSE:  16.686 validation RMSE:  17.269\n",
      "Feature # 33 :  [0, 0, 1, 0, 0, 0, 0, 1] \t RMSE:  train RMSE:  16.575 validation RMSE:  16.823\n",
      "Feature # 34 :  [0, 0, 1, 0, 0, 0, 1, 0] \t RMSE:  train RMSE:  16.367 validation RMSE:  17.457\n",
      "Feature # 35 :  [0, 0, 1, 0, 0, 0, 1, 1] \t RMSE:  train RMSE:  16.19 validation RMSE:  16.832\n",
      "Feature # 36 :  [0, 0, 1, 0, 0, 1, 0, 0] \t RMSE:  train RMSE:  14.652 validation RMSE:  15.854\n",
      "Feature # 37 :  [0, 0, 1, 0, 0, 1, 0, 1] \t RMSE:  train RMSE:  14.25 validation RMSE:  14.755\n",
      "Feature # 38 :  [0, 0, 1, 0, 0, 1, 1, 0] \t RMSE:  train RMSE:  14.618 validation RMSE:  15.954\n",
      "Feature # 39 :  [0, 0, 1, 0, 0, 1, 1, 1] \t RMSE:  train RMSE:  14.188 validation RMSE:  14.802\n",
      "Feature # 40 :  [0, 0, 1, 0, 1, 0, 0, 0] \t RMSE:  train RMSE:  15.724 validation RMSE:  16.222\n",
      "Feature # 41 :  [0, 0, 1, 0, 1, 0, 0, 1] \t RMSE:  train RMSE:  15.658 validation RMSE:  15.972\n",
      "Feature # 42 :  [0, 0, 1, 0, 1, 0, 1, 0] \t RMSE:  train RMSE:  15.381 validation RMSE:  16.409\n",
      "Feature # 43 :  [0, 0, 1, 0, 1, 0, 1, 1] \t RMSE:  train RMSE:  15.262 validation RMSE:  16.019\n",
      "Feature # 44 :  [0, 0, 1, 0, 1, 1, 0, 0] \t RMSE:  train RMSE:  13.064 validation RMSE:  14.331\n",
      "Feature # 45 :  [0, 0, 1, 0, 1, 1, 0, 1] \t RMSE:  train RMSE:  12.724 validation RMSE:  13.553\n",
      "Feature # 46 :  [0, 0, 1, 0, 1, 1, 1, 0] \t RMSE:  train RMSE:  13.042 validation RMSE:  14.415\n",
      "Feature # 47 :  [0, 0, 1, 0, 1, 1, 1, 1] \t RMSE:  train RMSE:  12.679 validation RMSE:  13.607\n",
      "Feature # 48 :  [0, 0, 1, 1, 0, 0, 0, 0] \t RMSE:  train RMSE:  15.634 validation RMSE:  16.151\n",
      "Feature # 49 :  [0, 0, 1, 1, 0, 0, 0, 1] \t RMSE:  train RMSE:  14.778 validation RMSE:  14.733\n",
      "Feature # 50 :  [0, 0, 1, 1, 0, 0, 1, 0] \t RMSE:  train RMSE:  15.01 validation RMSE:  16.186\n",
      "Feature # 51 :  [0, 0, 1, 1, 0, 0, 1, 1] \t RMSE:  train RMSE:  13.566 validation RMSE:  13.905\n",
      "Feature # 52 :  [0, 0, 1, 1, 0, 1, 0, 0] \t RMSE:  train RMSE:  14.618 validation RMSE:  15.738\n",
      "Feature # 53 :  [0, 0, 1, 1, 0, 1, 0, 1] \t RMSE:  train RMSE:  13.973 validation RMSE:  14.177\n",
      "Feature # 54 :  [0, 0, 1, 1, 0, 1, 1, 0] \t RMSE:  train RMSE:  14.519 validation RMSE:  15.822\n",
      "Feature # 55 :  [0, 0, 1, 1, 0, 1, 1, 1] \t RMSE:  train RMSE:  13.465 validation RMSE:  13.79\n",
      "Feature # 56 :  [0, 0, 1, 1, 1, 0, 0, 0] \t RMSE:  train RMSE:  14.035 validation RMSE:  14.41\n",
      "Feature # 57 :  [0, 0, 1, 1, 1, 0, 0, 1] \t RMSE:  train RMSE:  13.071 validation RMSE:  13.408\n",
      "Feature # 58 :  [0, 0, 1, 1, 1, 0, 1, 0] \t RMSE:  train RMSE:  13.241 validation RMSE:  14.351\n",
      "Feature # 59 :  [0, 0, 1, 1, 1, 0, 1, 1] \t RMSE:  train RMSE:  11.528 validation RMSE:  12.516\n",
      "Feature # 60 :  [0, 0, 1, 1, 1, 1, 0, 0] \t RMSE:  train RMSE:  12.901 validation RMSE:  13.972\n",
      "Feature # 61 :  [0, 0, 1, 1, 1, 1, 0, 1] \t RMSE:  train RMSE:  12.16 validation RMSE:  12.727\n",
      "Feature # 62 :  [0, 0, 1, 1, 1, 1, 1, 0] \t RMSE:  train RMSE:  12.738 validation RMSE:  14.028\n",
      "Feature # 63 :  [0, 0, 1, 1, 1, 1, 1, 1] \t RMSE:  train RMSE:  11.442 validation RMSE:  12.362\n",
      "Feature # 64 :  [0, 1, 0, 0, 0, 0, 0, 0] \t RMSE:  train RMSE:  16.561 validation RMSE:  17.306\n",
      "Feature # 65 :  [0, 1, 0, 0, 0, 0, 0, 1] \t RMSE:  train RMSE:  16.515 validation RMSE:  17.013\n",
      "Feature # 66 :  [0, 1, 0, 0, 0, 0, 1, 0] \t RMSE:  train RMSE:  16.369 validation RMSE:  17.537\n",
      "Feature # 67 :  [0, 1, 0, 0, 0, 0, 1, 1] \t RMSE:  train RMSE:  16.254 validation RMSE:  17.056\n",
      "Feature # 68 :  [0, 1, 0, 0, 0, 1, 0, 0] \t RMSE:  train RMSE:  15.157 validation RMSE:  16.705\n",
      "Feature # 69 :  [0, 1, 0, 0, 0, 1, 0, 1] \t RMSE:  train RMSE:  14.919 validation RMSE:  15.862\n",
      "Feature # 70 :  [0, 1, 0, 0, 0, 1, 1, 0] \t RMSE:  train RMSE:  15.138 validation RMSE:  16.783\n",
      "Feature # 71 :  [0, 1, 0, 0, 0, 1, 1, 1] \t RMSE:  train RMSE:  14.858 validation RMSE:  15.876\n",
      "Feature # 72 :  [0, 1, 0, 0, 1, 0, 0, 0] \t RMSE:  train RMSE:  15.48 validation RMSE:  16.008\n",
      "Feature # 73 :  [0, 1, 0, 0, 1, 0, 0, 1] \t RMSE:  train RMSE:  15.468 validation RMSE:  15.911\n",
      "Feature # 74 :  [0, 1, 0, 0, 1, 0, 1, 0] \t RMSE:  train RMSE:  15.279 validation RMSE:  16.259\n",
      "Feature # 75 :  [0, 1, 0, 0, 1, 0, 1, 1] \t RMSE:  train RMSE:  15.225 validation RMSE:  16.044\n",
      "Feature # 76 :  [0, 1, 0, 0, 1, 1, 0, 0] \t RMSE:  train RMSE:  13.4 validation RMSE:  14.964\n",
      "Feature # 77 :  [0, 1, 0, 0, 1, 1, 0, 1] \t RMSE:  train RMSE:  13.227 validation RMSE:  14.45\n",
      "Feature # 78 :  [0, 1, 0, 0, 1, 1, 1, 0] \t RMSE:  train RMSE:  13.394 validation RMSE:  15.012\n",
      "Feature # 79 :  [0, 1, 0, 0, 1, 1, 1, 1] \t RMSE:  train RMSE:  13.199 validation RMSE:  14.492\n",
      "Feature # 80 :  [0, 1, 0, 1, 0, 0, 0, 0] \t RMSE:  train RMSE:  15.617 validation RMSE:  16.419\n",
      "Feature # 81 :  [0, 1, 0, 1, 0, 0, 0, 1] \t RMSE:  train RMSE:  15.067 validation RMSE:  15.257\n",
      "Feature # 82 :  [0, 1, 0, 1, 0, 0, 1, 0] \t RMSE:  train RMSE:  15.238 validation RMSE:  16.601\n",
      "Feature # 83 :  [0, 1, 0, 1, 0, 0, 1, 1] \t RMSE:  train RMSE:  14.12 validation RMSE:  14.608\n",
      "Feature # 84 :  [0, 1, 0, 1, 0, 1, 0, 0] \t RMSE:  train RMSE:  15.09 validation RMSE:  16.502\n",
      "Feature # 85 :  [0, 1, 0, 1, 0, 1, 0, 1] \t RMSE:  train RMSE:  14.653 validation RMSE:  15.203\n",
      "Feature # 86 :  [0, 1, 0, 1, 0, 1, 1, 0] \t RMSE:  train RMSE:  15.004 validation RMSE:  16.57\n",
      "Feature # 87 :  [0, 1, 0, 1, 0, 1, 1, 1] \t RMSE:  train RMSE:  14.113 validation RMSE:  14.618\n",
      "Feature # 88 :  [0, 1, 0, 1, 1, 0, 0, 0] \t RMSE:  train RMSE:  13.782 validation RMSE:  14.309\n",
      "Feature # 89 :  [0, 1, 0, 1, 1, 0, 0, 1] \t RMSE:  train RMSE:  13.171 validation RMSE:  13.581\n",
      "Feature # 90 :  [0, 1, 0, 1, 1, 0, 1, 0] \t RMSE:  train RMSE:  13.291 validation RMSE:  14.479\n",
      "Feature # 91 :  [0, 1, 0, 1, 1, 0, 1, 1] \t RMSE:  train RMSE:  11.974 validation RMSE:  13.061\n",
      "Feature # 92 :  [0, 1, 0, 1, 1, 1, 0, 0] \t RMSE:  train RMSE:  13.143 validation RMSE:  14.411\n",
      "Feature # 93 :  [0, 1, 0, 1, 1, 1, 0, 1] \t RMSE:  train RMSE:  12.658 validation RMSE:  13.461\n",
      "Feature # 94 :  [0, 1, 0, 1, 1, 1, 1, 0] \t RMSE:  train RMSE:  13.019 validation RMSE:  14.467\n",
      "Feature # 95 :  [0, 1, 0, 1, 1, 1, 1, 1] \t RMSE:  train RMSE:  11.966 validation RMSE:  13.047\n",
      "Feature # 96 :  [0, 1, 1, 0, 0, 0, 0, 0] \t RMSE:  train RMSE:  16.532 validation RMSE:  17.173\n",
      "Feature # 97 :  [0, 1, 1, 0, 0, 0, 0, 1] \t RMSE:  train RMSE:  16.48 validation RMSE:  16.86\n",
      "Feature # 98 :  [0, 1, 1, 0, 0, 0, 1, 0] \t RMSE:  train RMSE:  16.317 validation RMSE:  17.376\n",
      "Feature # 99 :  [0, 1, 1, 0, 0, 0, 1, 1] \t RMSE:  train RMSE:  16.183 validation RMSE:  16.846\n",
      "Feature # 100 :  [0, 1, 1, 0, 0, 1, 0, 0] \t RMSE:  train RMSE:  14.635 validation RMSE:  15.866\n",
      "Feature # 101 :  [0, 1, 1, 0, 0, 1, 0, 1] \t RMSE:  train RMSE:  14.241 validation RMSE:  14.691\n",
      "Feature # 102 :  [0, 1, 1, 0, 0, 1, 1, 0] \t RMSE:  train RMSE:  14.612 validation RMSE:  15.948\n",
      "Feature # 103 :  [0, 1, 1, 0, 0, 1, 1, 1] \t RMSE:  train RMSE:  14.152 validation RMSE:  14.671\n",
      "Feature # 104 :  [0, 1, 1, 0, 1, 0, 0, 0] \t RMSE:  train RMSE:  15.48 validation RMSE:  16.006\n",
      "Feature # 105 :  [0, 1, 1, 0, 1, 0, 0, 1] \t RMSE:  train RMSE:  15.467 validation RMSE:  15.902\n",
      "Feature # 106 :  [0, 1, 1, 0, 1, 0, 1, 0] \t RMSE:  train RMSE:  15.275 validation RMSE:  16.228\n",
      "Feature # 107 :  [0, 1, 1, 0, 1, 0, 1, 1] \t RMSE:  train RMSE:  15.217 validation RMSE:  15.99\n",
      "Feature # 108 :  [0, 1, 1, 0, 1, 1, 0, 0] \t RMSE:  train RMSE:  13.016 validation RMSE:  14.313\n",
      "Feature # 109 :  [0, 1, 1, 0, 1, 1, 0, 1] \t RMSE:  train RMSE:  12.723 validation RMSE:  13.56\n",
      "Feature # 110 :  [0, 1, 1, 0, 1, 1, 1, 0] \t RMSE:  train RMSE:  13.008 validation RMSE:  14.369\n",
      "Feature # 111 :  [0, 1, 1, 0, 1, 1, 1, 1] \t RMSE:  train RMSE:  12.676 validation RMSE:  13.588\n",
      "Feature # 112 :  [0, 1, 1, 1, 0, 0, 0, 0] \t RMSE:  train RMSE:  15.459 validation RMSE:  16.039\n",
      "Feature # 113 :  [0, 1, 1, 1, 0, 0, 0, 1] \t RMSE:  train RMSE:  14.762 validation RMSE:  14.736\n",
      "Feature # 114 :  [0, 1, 1, 1, 0, 0, 1, 0] \t RMSE:  train RMSE:  14.979 validation RMSE:  16.136\n",
      "Feature # 115 :  [0, 1, 1, 1, 0, 0, 1, 1] \t RMSE:  train RMSE:  13.396 validation RMSE:  13.703\n",
      "Feature # 116 :  [0, 1, 1, 1, 0, 1, 0, 0] \t RMSE:  train RMSE:  14.59 validation RMSE:  15.732\n",
      "Feature # 117 :  [0, 1, 1, 1, 0, 1, 0, 1] \t RMSE:  train RMSE:  13.967 validation RMSE:  14.14\n",
      "Feature # 118 :  [0, 1, 1, 1, 0, 1, 1, 0] \t RMSE:  train RMSE:  14.509 validation RMSE:  15.811\n",
      "Feature # 119 :  [0, 1, 1, 1, 0, 1, 1, 1] \t RMSE:  train RMSE:  13.307 validation RMSE:  13.543\n",
      "Feature # 120 :  [0, 1, 1, 1, 1, 0, 0, 0] \t RMSE:  train RMSE:  13.718 validation RMSE:  14.108\n",
      "Feature # 121 :  [0, 1, 1, 1, 1, 0, 0, 1] \t RMSE:  train RMSE:  12.999 validation RMSE:  13.301\n",
      "Feature # 122 :  [0, 1, 1, 1, 1, 0, 1, 0] \t RMSE:  train RMSE:  13.15 validation RMSE:  14.194\n",
      "Feature # 123 :  [0, 1, 1, 1, 1, 0, 1, 1] \t RMSE:  train RMSE:  11.426 validation RMSE:  12.515\n",
      "Feature # 124 :  [0, 1, 1, 1, 1, 1, 0, 0] \t RMSE:  train RMSE:  12.807 validation RMSE:  13.879\n",
      "Feature # 125 :  [0, 1, 1, 1, 1, 1, 0, 1] \t RMSE:  train RMSE:  12.157 validation RMSE:  12.73\n",
      "Feature # 126 :  [0, 1, 1, 1, 1, 1, 1, 0] \t RMSE:  train RMSE:  12.688 validation RMSE:  13.948\n",
      "Feature # 127 :  [0, 1, 1, 1, 1, 1, 1, 1] \t RMSE:  train RMSE:  11.348 validation RMSE:  12.33\n",
      "Feature # 128 :  [1, 0, 0, 0, 0, 0, 0, 0] \t RMSE:  train RMSE:  14.744 validation RMSE:  14.738\n",
      "Feature # 129 :  [1, 0, 0, 0, 0, 0, 0, 1] \t RMSE:  train RMSE:  14.739 validation RMSE:  14.681\n",
      "Feature # 130 :  [1, 0, 0, 0, 0, 0, 1, 0] \t RMSE:  train RMSE:  14.589 validation RMSE:  14.814\n",
      "Feature # 131 :  [1, 0, 0, 0, 0, 0, 1, 1] \t RMSE:  train RMSE:  14.569 validation RMSE:  14.683\n",
      "Feature # 132 :  [1, 0, 0, 0, 0, 1, 0, 0] \t RMSE:  train RMSE:  13.608 validation RMSE:  13.669\n",
      "Feature # 133 :  [1, 0, 0, 0, 0, 1, 0, 1] \t RMSE:  train RMSE:  13.505 validation RMSE:  13.285\n",
      "Feature # 134 :  [1, 0, 0, 0, 0, 1, 1, 0] \t RMSE:  train RMSE:  13.59 validation RMSE:  13.738\n",
      "Feature # 135 :  [1, 0, 0, 0, 0, 1, 1, 1] \t RMSE:  train RMSE:  13.473 validation RMSE:  13.332\n",
      "Feature # 136 :  [1, 0, 0, 0, 1, 0, 0, 0] \t RMSE:  train RMSE:  13.74 validation RMSE:  13.869\n",
      "Feature # 137 :  [1, 0, 0, 0, 1, 0, 0, 1] \t RMSE:  train RMSE:  13.74 validation RMSE:  13.876\n",
      "Feature # 138 :  [1, 0, 0, 0, 1, 0, 1, 0] \t RMSE:  train RMSE:  13.564 validation RMSE:  13.931\n",
      "Feature # 139 :  [1, 0, 0, 0, 1, 0, 1, 1] \t RMSE:  train RMSE:  13.56 validation RMSE:  13.896\n",
      "Feature # 140 :  [1, 0, 0, 0, 1, 1, 0, 0] \t RMSE:  train RMSE:  11.982 validation RMSE:  12.292\n",
      "Feature # 141 :  [1, 0, 0, 0, 1, 1, 0, 1] \t RMSE:  train RMSE:  11.904 validation RMSE:  12.068\n",
      "Feature # 142 :  [1, 0, 0, 0, 1, 1, 1, 0] \t RMSE:  train RMSE:  11.972 validation RMSE:  12.343\n",
      "Feature # 143 :  [1, 0, 0, 0, 1, 1, 1, 1] \t RMSE:  train RMSE:  11.885 validation RMSE:  12.113\n",
      "Feature # 144 :  [1, 0, 0, 1, 0, 0, 0, 0] \t RMSE:  train RMSE:  14.043 validation RMSE:  13.853\n",
      "Feature # 145 :  [1, 0, 0, 1, 0, 0, 0, 1] \t RMSE:  train RMSE:  13.743 validation RMSE:  13.229\n",
      "Feature # 146 :  [1, 0, 0, 1, 0, 0, 1, 0] \t RMSE:  train RMSE:  13.709 validation RMSE:  13.846\n",
      "Feature # 147 :  [1, 0, 0, 1, 0, 0, 1, 1] \t RMSE:  train RMSE:  13.101 validation RMSE:  12.757\n",
      "Feature # 148 :  [1, 0, 0, 1, 0, 1, 0, 0] \t RMSE:  train RMSE:  13.57 validation RMSE:  13.557\n",
      "Feature # 149 :  [1, 0, 0, 1, 0, 1, 0, 1] \t RMSE:  train RMSE:  13.356 validation RMSE:  12.905\n",
      "Feature # 150 :  [1, 0, 0, 1, 0, 1, 1, 0] \t RMSE:  train RMSE:  13.498 validation RMSE:  13.626\n",
      "Feature # 151 :  [1, 0, 0, 1, 0, 1, 1, 1] \t RMSE:  train RMSE:  13.065 validation RMSE:  12.7\n",
      "Feature # 152 :  [1, 0, 0, 1, 1, 0, 0, 0] \t RMSE:  train RMSE:  12.412 validation RMSE:  12.314\n",
      "Feature # 153 :  [1, 0, 0, 1, 1, 0, 0, 1] \t RMSE:  train RMSE:  12.019 validation RMSE:  11.923\n",
      "Feature # 154 :  [1, 0, 0, 1, 1, 0, 1, 0] \t RMSE:  train RMSE:  11.927 validation RMSE:  12.213\n",
      "Feature # 155 :  [1, 0, 0, 1, 1, 0, 1, 1] \t RMSE:  train RMSE:  11.085 validation RMSE:  11.385\n",
      "Feature # 156 :  [1, 0, 0, 1, 1, 1, 0, 0] \t RMSE:  train RMSE:  11.803 validation RMSE:  11.95\n",
      "Feature # 157 :  [1, 0, 0, 1, 1, 1, 0, 1] \t RMSE:  train RMSE:  11.517 validation RMSE:  11.463\n",
      "Feature # 158 :  [1, 0, 0, 1, 1, 1, 1, 0] \t RMSE:  train RMSE:  11.678 validation RMSE:  11.994\n"
     ]
    },
    {
     "name": "stdout",
     "output_type": "stream",
     "text": [
      "Feature # 159 :  [1, 0, 0, 1, 1, 1, 1, 1] \t RMSE:  train RMSE:  11.052 validation RMSE:  11.294\n",
      "Feature # 160 :  [1, 0, 1, 0, 0, 0, 0, 0] \t RMSE:  train RMSE:  14.69 validation RMSE:  14.667\n",
      "Feature # 161 :  [1, 0, 1, 0, 0, 0, 0, 1] \t RMSE:  train RMSE:  14.686 validation RMSE:  14.617\n",
      "Feature # 162 :  [1, 0, 1, 0, 0, 0, 1, 0] \t RMSE:  train RMSE:  14.545 validation RMSE:  14.746\n",
      "Feature # 163 :  [1, 0, 1, 0, 0, 0, 1, 1] \t RMSE:  train RMSE:  14.528 validation RMSE:  14.626\n",
      "Feature # 164 :  [1, 0, 1, 0, 0, 1, 0, 0] \t RMSE:  train RMSE:  13.533 validation RMSE:  13.662\n",
      "Feature # 165 :  [1, 0, 1, 0, 0, 1, 0, 1] \t RMSE:  train RMSE:  13.397 validation RMSE:  13.216\n",
      "Feature # 166 :  [1, 0, 1, 0, 0, 1, 1, 0] \t RMSE:  train RMSE:  13.518 validation RMSE:  13.724\n",
      "Feature # 167 :  [1, 0, 1, 0, 0, 1, 1, 1] \t RMSE:  train RMSE:  13.369 validation RMSE:  13.26\n",
      "Feature # 168 :  [1, 0, 1, 0, 1, 0, 0, 0] \t RMSE:  train RMSE:  13.597 validation RMSE:  13.746\n",
      "Feature # 169 :  [1, 0, 1, 0, 1, 0, 0, 1] \t RMSE:  train RMSE:  13.596 validation RMSE:  13.76\n",
      "Feature # 170 :  [1, 0, 1, 0, 1, 0, 1, 0] \t RMSE:  train RMSE:  13.437 validation RMSE:  13.808\n",
      "Feature # 171 :  [1, 0, 1, 0, 1, 0, 1, 1] \t RMSE:  train RMSE:  13.436 validation RMSE:  13.786\n",
      "Feature # 172 :  [1, 0, 1, 0, 1, 1, 0, 0] \t RMSE:  train RMSE:  11.936 validation RMSE:  12.278\n",
      "Feature # 173 :  [1, 0, 1, 0, 1, 1, 0, 1] \t RMSE:  train RMSE:  11.835 validation RMSE:  12.016\n",
      "Feature # 174 :  [1, 0, 1, 0, 1, 1, 1, 0] \t RMSE:  train RMSE:  11.928 validation RMSE:  12.324\n",
      "Feature # 175 :  [1, 0, 1, 0, 1, 1, 1, 1] \t RMSE:  train RMSE:  11.818 validation RMSE:  12.059\n",
      "Feature # 176 :  [1, 0, 1, 1, 0, 0, 0, 0] \t RMSE:  train RMSE:  14.043 validation RMSE:  13.854\n",
      "Feature # 177 :  [1, 0, 1, 1, 0, 0, 0, 1] \t RMSE:  train RMSE:  13.727 validation RMSE:  13.23\n",
      "Feature # 178 :  [1, 0, 1, 1, 0, 0, 1, 0] \t RMSE:  train RMSE:  13.702 validation RMSE:  13.856\n",
      "Feature # 179 :  [1, 0, 1, 1, 0, 0, 1, 1] \t RMSE:  train RMSE:  13.009 validation RMSE:  12.747\n",
      "Feature # 180 :  [1, 0, 1, 1, 0, 1, 0, 0] \t RMSE:  train RMSE:  13.494 validation RMSE:  13.553\n",
      "Feature # 181 :  [1, 0, 1, 1, 0, 1, 0, 1] \t RMSE:  train RMSE:  13.224 validation RMSE:  12.827\n",
      "Feature # 182 :  [1, 0, 1, 1, 0, 1, 1, 0] \t RMSE:  train RMSE:  13.432 validation RMSE:  13.62\n",
      "Feature # 183 :  [1, 0, 1, 1, 0, 1, 1, 1] \t RMSE:  train RMSE:  12.927 validation RMSE:  12.642\n",
      "Feature # 184 :  [1, 0, 1, 1, 1, 0, 0, 0] \t RMSE:  train RMSE:  12.406 validation RMSE:  12.308\n",
      "Feature # 185 :  [1, 0, 1, 1, 1, 0, 0, 1] \t RMSE:  train RMSE:  12.017 validation RMSE:  11.928\n",
      "Feature # 186 :  [1, 0, 1, 1, 1, 0, 1, 0] \t RMSE:  train RMSE:  11.927 validation RMSE:  12.213\n",
      "Feature # 187 :  [1, 0, 1, 1, 1, 0, 1, 1] \t RMSE:  train RMSE:  11.02 validation RMSE:  11.404\n",
      "Feature # 188 :  [1, 0, 1, 1, 1, 1, 0, 0] \t RMSE:  train RMSE:  11.759 validation RMSE:  11.941\n",
      "Feature # 189 :  [1, 0, 1, 1, 1, 1, 0, 1] \t RMSE:  train RMSE:  11.421 validation RMSE:  11.412\n",
      "Feature # 190 :  [1, 0, 1, 1, 1, 1, 1, 0] \t RMSE:  train RMSE:  11.643 validation RMSE:  11.988\n",
      "Feature # 191 :  [1, 0, 1, 1, 1, 1, 1, 1] \t RMSE:  train RMSE:  10.95 validation RMSE:  11.263\n",
      "Feature # 192 :  [1, 1, 0, 0, 0, 0, 0, 0] \t RMSE:  train RMSE:  13.924 validation RMSE:  13.817\n",
      "Feature # 193 :  [1, 1, 0, 0, 0, 0, 0, 1] \t RMSE:  train RMSE:  13.848 validation RMSE:  13.959\n",
      "Feature # 194 :  [1, 1, 0, 0, 0, 0, 1, 0] \t RMSE:  train RMSE:  13.916 validation RMSE:  13.863\n",
      "Feature # 195 :  [1, 1, 0, 0, 0, 0, 1, 1] \t RMSE:  train RMSE:  13.848 validation RMSE:  13.958\n",
      "Feature # 196 :  [1, 1, 0, 0, 0, 1, 0, 0] \t RMSE:  train RMSE:  12.884 validation RMSE:  12.875\n",
      "Feature # 197 :  [1, 1, 0, 0, 0, 1, 0, 1] \t RMSE:  train RMSE:  12.884 validation RMSE:  12.881\n",
      "Feature # 198 :  [1, 1, 0, 0, 0, 1, 1, 0] \t RMSE:  train RMSE:  12.858 validation RMSE:  12.749\n",
      "Feature # 199 :  [1, 1, 0, 0, 0, 1, 1, 1] \t RMSE:  train RMSE:  12.855 validation RMSE:  12.786\n",
      "Feature # 200 :  [1, 1, 0, 0, 1, 0, 0, 0] \t RMSE:  train RMSE:  12.824 validation RMSE:  12.783\n",
      "Feature # 201 :  [1, 1, 0, 0, 1, 0, 0, 1] \t RMSE:  train RMSE:  12.67 validation RMSE:  12.805\n",
      "Feature # 202 :  [1, 1, 0, 0, 1, 0, 1, 0] \t RMSE:  train RMSE:  12.814 validation RMSE:  12.833\n",
      "Feature # 203 :  [1, 1, 0, 0, 1, 0, 1, 1] \t RMSE:  train RMSE:  12.669 validation RMSE:  12.783\n",
      "Feature # 204 :  [1, 1, 0, 0, 1, 1, 0, 0] \t RMSE:  train RMSE:  11.15 validation RMSE:  11.32\n",
      "Feature # 205 :  [1, 1, 0, 0, 1, 1, 0, 1] \t RMSE:  train RMSE:  11.144 validation RMSE:  11.352\n",
      "Feature # 206 :  [1, 1, 0, 0, 1, 1, 1, 0] \t RMSE:  train RMSE:  11.1 validation RMSE:  11.13\n",
      "Feature # 207 :  [1, 1, 0, 0, 1, 1, 1, 1] \t RMSE:  train RMSE:  11.077 validation RMSE:  11.144\n",
      "Feature # 208 :  [1, 1, 0, 1, 0, 0, 0, 0] \t RMSE:  train RMSE:  13.05 validation RMSE:  12.735\n",
      "Feature # 209 :  [1, 1, 0, 1, 0, 0, 0, 1] \t RMSE:  train RMSE:  13.008 validation RMSE:  12.559\n",
      "Feature # 210 :  [1, 1, 0, 1, 0, 0, 1, 0] \t RMSE:  train RMSE:  12.978 validation RMSE:  12.815\n",
      "Feature # 211 :  [1, 1, 0, 1, 0, 0, 1, 1] \t RMSE:  train RMSE:  12.823 validation RMSE:  12.459\n",
      "Feature # 212 :  [1, 1, 0, 1, 0, 1, 0, 0] \t RMSE:  train RMSE:  12.757 validation RMSE:  12.607\n",
      "Feature # 213 :  [1, 1, 0, 1, 0, 1, 0, 1] \t RMSE:  train RMSE:  12.731 validation RMSE:  12.424\n",
      "Feature # 214 :  [1, 1, 0, 1, 0, 1, 1, 0] \t RMSE:  train RMSE:  12.757 validation RMSE:  12.61\n",
      "Feature # 215 :  [1, 1, 0, 1, 0, 1, 1, 1] \t RMSE:  train RMSE:  12.712 validation RMSE:  12.395\n",
      "Feature # 216 :  [1, 1, 0, 1, 1, 0, 0, 0] \t RMSE:  train RMSE:  11.17 validation RMSE:  10.824\n",
      "Feature # 217 :  [1, 1, 0, 1, 1, 0, 0, 1] \t RMSE:  train RMSE:  11.106 validation RMSE:  10.772\n",
      "Feature # 218 :  [1, 1, 0, 1, 1, 0, 1, 0] \t RMSE:  train RMSE:  11.038 validation RMSE:  10.901\n",
      "Feature # 219 :  [1, 1, 0, 1, 1, 0, 1, 1] \t RMSE:  train RMSE:  10.782 validation RMSE:  10.792\n",
      "Feature # 220 :  [1, 1, 0, 1, 1, 1, 0, 0] \t RMSE:  train RMSE:  10.776 validation RMSE:  10.669\n",
      "Feature # 221 :  [1, 1, 0, 1, 1, 1, 0, 1] \t RMSE:  train RMSE:  10.735 validation RMSE:  10.565\n",
      "Feature # 222 :  [1, 1, 0, 1, 1, 1, 1, 0] \t RMSE:  train RMSE:  10.772 validation RMSE:  10.696\n",
      "Feature # 223 :  [1, 1, 0, 1, 1, 1, 1, 1] \t RMSE:  train RMSE:  10.672 validation RMSE:  10.612\n",
      "Feature # 224 :  [1, 1, 1, 0, 0, 0, 0, 0] \t RMSE:  train RMSE:  13.259 validation RMSE:  13.161\n",
      "Feature # 225 :  [1, 1, 1, 0, 0, 0, 0, 1] \t RMSE:  train RMSE:  12.986 validation RMSE:  13.378\n",
      "Feature # 226 :  [1, 1, 1, 0, 0, 0, 1, 0] \t RMSE:  train RMSE:  13.237 validation RMSE:  13.068\n",
      "Feature # 227 :  [1, 1, 1, 0, 0, 0, 1, 1] \t RMSE:  train RMSE:  12.792 validation RMSE:  13.103\n",
      "Feature # 228 :  [1, 1, 1, 0, 0, 1, 0, 0] \t RMSE:  train RMSE:  12.793 validation RMSE:  12.726\n",
      "Feature # 229 :  [1, 1, 1, 0, 0, 1, 0, 1] \t RMSE:  train RMSE:  12.755 validation RMSE:  12.89\n",
      "Feature # 230 :  [1, 1, 1, 0, 0, 1, 1, 0] \t RMSE:  train RMSE:  12.744 validation RMSE:  12.541\n",
      "Feature # 231 :  [1, 1, 1, 0, 0, 1, 1, 1] \t RMSE:  train RMSE:  12.627 validation RMSE:  12.704\n",
      "Feature # 232 :  [1, 1, 1, 0, 1, 0, 0, 0] \t RMSE:  train RMSE:  11.726 validation RMSE:  11.833\n",
      "Feature # 233 :  [1, 1, 1, 0, 1, 0, 0, 1] \t RMSE:  train RMSE:  11.152 validation RMSE:  11.712\n",
      "Feature # 234 :  [1, 1, 1, 0, 1, 0, 1, 0] \t RMSE:  train RMSE:  11.681 validation RMSE:  11.706\n",
      "Feature # 235 :  [1, 1, 1, 0, 1, 0, 1, 1] \t RMSE:  train RMSE:  10.72 validation RMSE:  11.041\n",
      "Feature # 236 :  [1, 1, 1, 0, 1, 1, 0, 0] \t RMSE:  train RMSE:  10.966 validation RMSE:  11.093\n",
      "Feature # 237 :  [1, 1, 1, 0, 1, 1, 0, 1] \t RMSE:  train RMSE:  10.833 validation RMSE:  11.187\n",
      "Feature # 238 :  [1, 1, 1, 0, 1, 1, 1, 0] \t RMSE:  train RMSE:  10.867 validation RMSE:  10.817\n",
      "Feature # 239 :  [1, 1, 1, 0, 1, 1, 1, 1] \t RMSE:  train RMSE:  10.51 validation RMSE:  10.646\n",
      "Feature # 240 :  [1, 1, 1, 1, 0, 0, 0, 0] \t RMSE:  train RMSE:  12.712 validation RMSE:  12.379\n",
      "Feature # 241 :  [1, 1, 1, 1, 0, 0, 0, 1] \t RMSE:  train RMSE:  12.703 validation RMSE:  12.467\n",
      "Feature # 242 :  [1, 1, 1, 1, 0, 0, 1, 0] \t RMSE:  train RMSE:  12.708 validation RMSE:  12.407\n",
      "Feature # 243 :  [1, 1, 1, 1, 0, 0, 1, 1] \t RMSE:  train RMSE:  12.703 validation RMSE:  12.484\n",
      "Feature # 244 :  [1, 1, 1, 1, 0, 1, 0, 0] \t RMSE:  train RMSE:  12.632 validation RMSE:  12.39\n",
      "Feature # 245 :  [1, 1, 1, 1, 0, 1, 0, 1] \t RMSE:  train RMSE:  12.631 validation RMSE:  12.419\n",
      "Feature # 246 :  [1, 1, 1, 1, 0, 1, 1, 0] \t RMSE:  train RMSE:  12.63 validation RMSE:  12.367\n",
      "Feature # 247 :  [1, 1, 1, 1, 0, 1, 1, 1] \t RMSE:  train RMSE:  12.617 validation RMSE:  12.522\n",
      "Feature # 248 :  [1, 1, 1, 1, 1, 0, 0, 0] \t RMSE:  train RMSE:  10.561 validation RMSE:  10.266\n",
      "Feature # 249 :  [1, 1, 1, 1, 1, 0, 0, 1] \t RMSE:  train RMSE:  10.539 validation RMSE:  10.302\n",
      "Feature # 250 :  [1, 1, 1, 1, 1, 0, 1, 0] \t RMSE:  train RMSE:  10.552 validation RMSE:  10.298\n",
      "Feature # 251 :  [1, 1, 1, 1, 1, 0, 1, 1] \t RMSE:  train RMSE:  10.536 validation RMSE:  10.3\n",
      "Feature # 252 :  [1, 1, 1, 1, 1, 1, 0, 0] \t RMSE:  train RMSE:  10.49 validation RMSE:  10.282\n",
      "Feature # 253 :  [1, 1, 1, 1, 1, 1, 0, 1] \t RMSE:  train RMSE:  10.481 validation RMSE:  10.309\n",
      "Feature # 254 :  [1, 1, 1, 1, 1, 1, 1, 0] \t RMSE:  train RMSE:  10.49 validation RMSE:  10.279\n",
      "Feature # 255 :  [1, 1, 1, 1, 1, 1, 1, 1] \t RMSE:  train RMSE:  10.46 validation RMSE:  10.318\n"
     ]
    }
   ],
   "source": [
    "train_norm_model(norm_df_train, norm_df_val)"
   ]
  },
  {
   "cell_type": "markdown",
   "id": "800882af",
   "metadata": {},
   "source": [
    "No major improvements to RMSE when normalizing features"
   ]
  },
  {
   "cell_type": "markdown",
   "id": "8551eb02",
   "metadata": {},
   "source": [
    "# Use LASSO on your descriptors\n",
    "Goal: Select your most promising features\n",
    "1. Create/select features from previous exercise\n",
    "2. Include in your data frame\n",
    "3. Perform linear regression on the entire set of descriptors\n",
    "4. Perform LASSO method and plot resulting weights\n",
    "5. Compare to the weights you get with regular regression\n",
    "\n"
   ]
  },
  {
   "cell_type": "code",
   "execution_count": 374,
   "id": "ce78b279",
   "metadata": {},
   "outputs": [],
   "source": [
    "from sklearn.model_selection import cross_val_score\n",
    "from sklearn.linear_model import LinearRegression\n",
    " \n",
    "from sklearn.linear_model import Lasso\n",
    "from sklearn.model_selection import GridSearchCV"
   ]
  },
  {
   "cell_type": "code",
   "execution_count": 375,
   "id": "be0f5cfa",
   "metadata": {},
   "outputs": [],
   "source": [
    "train_feats = features"
   ]
  },
  {
   "cell_type": "code",
   "execution_count": 382,
   "id": "6d06ad82",
   "metadata": {},
   "outputs": [
    {
     "name": "stdout",
     "output_type": "stream",
     "text": [
      "{'alpha': 0.001}\n",
      "10.657045113331595\n"
     ]
    }
   ],
   "source": [
    "X_train = prepare_X(norm_df_train, train_feats)\n",
    "w_0, w = train_linear_regression(X_train, y_train_norm)\n",
    "y_pred = w_0 + X_train.dot(w)\n",
    "\n",
    "#X_val = prepare_X(norm_df_val, train_feats )\n",
    "#y_pred = w_0 + X_val.dot(w)\n",
    "\n",
    "lasso = Lasso()\n",
    "parameters = {'alpha':[1e-15,1e-10,1e-8,1e-3,1e-2,1,5,10,20,30,35,40,45,50,55,100]}\n",
    "lasso_regressor = GridSearchCV(lasso,parameters,scoring='neg_mean_squared_error',cv=5)\n",
    "\n",
    "lasso_regressor.fit(X_train,y_train)\n",
    "print(lasso_regressor.best_params_)\n",
    "print(math.sqrt(-1.0*lasso_regressor.best_score_))\n",
    "\n"
   ]
  },
  {
   "cell_type": "code",
   "execution_count": 383,
   "id": "db4ec3b5",
   "metadata": {},
   "outputs": [],
   "source": [
    "prediction_lasso = lasso_regressor.predict(X_train)"
   ]
  },
  {
   "cell_type": "code",
   "execution_count": 384,
   "id": "e5e16864",
   "metadata": {},
   "outputs": [
    {
     "name": "stdout",
     "output_type": "stream",
     "text": [
      "[ 50.98176774  36.15181283  16.3558597  -15.14389778  43.50936959\n",
      "  11.74971635   6.10433105  10.02987623]\n"
     ]
    }
   ],
   "source": [
    "print(lasso_regressor.best_estimator_.coef_)"
   ]
  },
  {
   "cell_type": "code",
   "execution_count": 385,
   "id": "ec0a1c83",
   "metadata": {},
   "outputs": [
    {
     "data": {
      "text/plain": [
       "array([ 51.4279869 ,  36.59278066,  16.64263916, -14.70896256,\n",
       "        43.56508509,  11.80598721,   6.45572751,  10.53778327])"
      ]
     },
     "execution_count": 385,
     "metadata": {},
     "output_type": "execute_result"
    }
   ],
   "source": [
    "w\n",
    "            "
   ]
  },
  {
   "cell_type": "code",
   "execution_count": 386,
   "id": "f59c23f3",
   "metadata": {},
   "outputs": [
    {
     "data": {
      "image/png": "[encoded data removed]",
      "text/plain": [
       "<Figure size 600x400 with 1 Axes>"
      ]
     },
     "metadata": {},
     "output_type": "display_data"
    }
   ],
   "source": [
    "plt.figure(figsize=(6, 4))\n",
    "\n",
    "sns.histplot(lasso_regressor.best_estimator_.coef_, label='LASSO weights', color='#220000', alpha=0.1, bins=20)\n",
    "sns.histplot(w, label='regression weights', color='#000001', alpha=0.3, bins= 20)\n",
    "\n",
    "plt.legend()\n",
    "\n",
    "plt.ylabel('Frequency')\n",
    "plt.xlabel('weights')\n",
    "plt.title('Normal regression and weights produced by LASSO')\n",
    "\n",
    "plt.show()"
   ]
  },
  {
   "cell_type": "markdown",
   "id": "2acbadb2",
   "metadata": {},
   "source": [
    "For normalized features, weights produced by regular regression and LASSO are very similar, note overlap in bins of weights, though not identical like expected from lecture"
   ]
  },
  {
   "cell_type": "code",
   "execution_count": null,
   "id": "5e009bc5",
   "metadata": {},
   "outputs": [],
   "source": []
  },
  {
   "cell_type": "markdown",
   "id": "ec0ab713",
   "metadata": {},
   "source": [
    "# Lowest RMSE competition\n",
    "Goal: Achieve the lowest RMSE among your classmates\n",
    "\n",
    "1. Use all of the strategies learned thus far to try and find the lowest RMSE for the concrete data set"
   ]
  },
  {
   "cell_type": "code",
   "execution_count": null,
   "id": "1733fced",
   "metadata": {},
   "outputs": [],
   "source": []
  },
  {
   "cell_type": "markdown",
   "id": "4a0160b0",
   "metadata": {},
   "source": [
    "The best score found with LASSO was 10.65698% "
   ]
  },
  {
   "cell_type": "markdown",
   "id": "8c61c9b6",
   "metadata": {},
   "source": [
    "# Apply and evaluate model to test set\n",
    "Goal: Run predictions for your test set and evaluate model accuracy\n",
    "\n",
    "1. Switch feature matrix to test set\n",
    "2. Predict\n",
    "3. Compute percentage of agreement\n",
    "\n"
   ]
  },
  {
   "cell_type": "markdown",
   "id": "62b34805",
   "metadata": {},
   "source": [
    "I wonder if I plugged in the correct values here ^ "
   ]
  },
  {
   "cell_type": "code",
   "execution_count": 388,
   "id": "5eaa4e71",
   "metadata": {},
   "outputs": [
    {
     "data": {
      "image/png": "[encoded data removed]",
      "text/plain": [
       "<Figure size 600x400 with 1 Axes>"
      ]
     },
     "metadata": {},
     "output_type": "display_data"
    }
   ],
   "source": [
    "plt.figure(figsize=(6, 4))\n",
    "\n",
    "sns.histplot(y_train_norm, label='target', color='#220000', alpha=0.8, bins=40)\n",
    "sns.histplot(y_pred, label='pred', color='#000001', alpha=0.6, bins=40)\n",
    "sns.histplot(prediction_lasso, label='lasso', color='#000011', alpha=0.2, bins=40)\n",
    "\n",
    "plt.legend()\n",
    "\n",
    "plt.ylabel('Frequency')\n",
    "plt.xlabel('csMPa')\n",
    "plt.title('Predictions vs actual distribution (using normalized features only)')\n",
    "\n",
    "plt.show()"
   ]
  },
  {
   "cell_type": "markdown",
   "id": "edc4257a",
   "metadata": {},
   "source": [
    "# Improve model accuracy\n",
    "Goal: Try to improve test set agreement percentage\n",
    "1. Create/set/exclude features\n",
    "2. Train & perform logistic linear regression\n",
    "3. Compute percentage of agreement and find the best one you can"
   ]
  },
  {
   "cell_type": "markdown",
   "id": "90b96003",
   "metadata": {},
   "source": [
    "# Use RR on your descriptors \n",
    "Goal: Compare ridge-regression result to your previous models\n",
    "1. Create/select features similar to before\n",
    "2. Perform ridge-regression using scikit-learn\n",
    "3. Compare to the weights you get in regular regression"
   ]
  },
  {
   "cell_type": "markdown",
   "id": "a3e23a60",
   "metadata": {},
   "source": [
    "# Use KRR on your descriptors\n",
    "Goal: Compare kernel ridge regression result to previous models\n",
    "1. Create/select features similar to before\n",
    "2. Perform ridge-regression using scikit-learn\n",
    "3. Test if your model is overfit or not"
   ]
  },
  {
   "cell_type": "markdown",
   "id": "7c275556",
   "metadata": {},
   "source": [
    "# Compare timings \n",
    "Goal: Compare training times for the different models\n",
    "1. Evaluate the time it takes to perform hyper parameter optimization for LASSO, RR, KRR\n",
    "2. Determine this for three different training sizes\n",
    "3. Plot the results"
   ]
  },
  {
   "cell_type": "markdown",
   "id": "0a8bbe02",
   "metadata": {},
   "source": [
    "# Use KNN on your descriptors\n",
    "Goal: Compare KNN to your previous models\n",
    "1. Create/select features similar to before\n",
    "2. Perform KNN on these using scikit-learn\n",
    "3. Use cross-validation to determine k and avoid overfit/underfit\n",
    "4. Plot predictions together with other models"
   ]
  },
  {
   "cell_type": "code",
   "execution_count": null,
   "id": "78c2d8d4",
   "metadata": {},
   "outputs": [],
   "source": []
  }
 ],
 "metadata": {
  "kernelspec": {
   "display_name": "Python 3 (ipykernel)",
   "language": "python",
   "name": "python3"
  },
  "language_info": {
   "codemirror_mode": {
    "name": "ipython",
    "version": 3
   },
   "file_extension": ".py",
   "mimetype": "text/x-python",
   "name": "python",
   "nbconvert_exporter": "python",
   "pygments_lexer": "ipython3",
   "version": "3.9.13"
  }
 },
 "nbformat": 4,
 "nbformat_minor": 5
}
